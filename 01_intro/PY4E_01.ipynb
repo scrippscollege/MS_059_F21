{
  "nbformat": 4,
  "nbformat_minor": 0,
  "metadata": {
    "colab": {
      "name": "PY4E_01.ipynb",
      "provenance": [],
      "collapsed_sections": []
    },
    "kernelspec": {
      "name": "python3",
      "display_name": "Python 3"
    },
    "language_info": {
      "name": "python"
    }
  },
  "cells": [
    {
      "cell_type": "markdown",
      "metadata": {
        "id": "pCGqT1DJAZLZ"
      },
      "source": [
        "# Python for Everybody (Scripps College F2021)\n",
        "\n",
        "*Python for Everybody: Exploring Data Using Python 3 Dr. Charles R. Severance* \n",
        "\n",
        "ported to Jupyter Notebooks by Douglas Goodwin, 2021.\n",
        "\n",
        "Content Copyright 2009- Dr. Charles R. Severance with edits and additions by Douglas Goodwin.\n",
        "\n",
        "This work is licensed under a Creative Commons Attribution-NonCommercial- ShareAlike 3.0 Unported License. This license is available at https://creativecommons.org/licenses/by-nc-sa/3.0/\n",
        "\n",
        "---"
      ]
    },
    {
      "cell_type": "markdown",
      "metadata": {
        "id": "Y1yOQVop9gv7"
      },
      "source": [
        "## Chapter 1: What is programming? Why program?\n",
        "\n",
        "[Jupyter](https://github.com/scrippscollege/MS_059_F21/blob/main/01_intro/PY4E_01.ipynb) | \n",
        "[Colab](https://colab.research.google.com/github/scrippscollege/MS_059_F21/blob/main/01_intro/PY4E_01.ipynb) | \n",
        "[Nextjournal](https://github.nextjournal.com/scrippscollege/MS_059_F21/blob/main/01_intro/PY4E_01.ipynb) | \n",
        "[Deepnote](https://deepnote.com/launch?url=https://github.com/scrippscollege/MS_059_F21/blob/main/01_intro/PY4E_01.ipynb)\n",
        "\n",
        "\n",
        "\n",
        "Learn why one might want to learn to program, and look at the basic issues with learning to program.\n",
        "\n",
        "### Videos\n",
        "\n",
        "-   [Why Program - Part 1](https://youtu.be/fvhNadKjE8g)\n",
        "-   [Why Program - Part 2](https://youtu.be/VQZTZsXk8sA)\n",
        "-   [Why Program - Part 3](https://youtu.be/LLzFNlCjTSo)\n",
        "-   [Why Program - Part 4](https://youtu.be/gsry2SYOFCw)\n",
        "-   [Writing 'hello world' in the Autograder](https://www.py4e.com/lessons/intro#)\n",
        "\n",
        "### Slides\n",
        "\n",
        "-   [Pythonlearn-01-Intro.pptx](https://www.py4e.com/lectures3/Pythonlearn-01-Intro.pptx)\n",
        "\n",
        "### References\n",
        "\n",
        "-   [Chapter 1: Introduction](https://www.py4e.com/html3/01-intro)\n",
        "\n",
        "### Tools:\n",
        "\n",
        "-   [Autograder: Write Hello World](https://www.py4e.com/lessons_launch/pythonauto_01_hello)\n",
        "-   [Quiz: Why program?](https://www.py4e.com/lessons_launch/py4e_01_in_quiz)\n",
        "\n",
        "## 1.1 Why should you learn to write programs?\n",
        "Writing programs (or programming) is a very creative and rewarding activity. You can write programs for many reasons, ranging from making your living to solving a difficult data analysis problem to having fun to helping someone else solve a problem. This book assumes that everyone needs to know how to program, and that once you know how to program you will figure out what you want to do with your newfound skills.\n",
        "\n",
        "We are surrounded in our daily lives with computers ranging from laptops to cell phones. We can think of these computers as our “personal assistants” who can take care of many things on our behalf. The hardware in our current-day computers is essentially built to continuously ask us the question, “What would you like me to do next?”\n",
        "\n",
        "![Figure 1.1: Personal Digital Assistant](https://www.evernote.com/l/ADPz6Or7ZkdDr4iXZqZNrnmZr1shIUzAK_UB/image.png)\n",
        "\n",
        "\n",
        "Programmers add an operating system and a set of applications to the hardware and we end up with a Personal Digital Assistant that is quite helpful and capable of helping us do many different things.\n",
        "Our computers are fast and have vast amounts of memory and could be very helpful to us if we only knew the language to speak to explain to the computer what we would like it to “do next”. If we knew this language, we could tell the computer to do tasks on our behalf that were repetitive. Interestingly, the kinds of things computers can do best are often the kinds of things that we humans find boring and mind-numbing."
      ]
    },
    {
      "cell_type": "markdown",
      "metadata": {
        "id": "I_C0OIDS-gvm"
      },
      "source": [
        "## 1.2 Computer hardware architecture\n",
        "\n",
        "Before we start learning the language we speak to give instructions to computers to develop software, we need to learn a small amount about how computers are built. If you were to take apart your computer or cell phone and look deep inside, you would find the following parts:\n",
        "\n",
        "![Figure 1.3: Hardware Architecture](https://www.evernote.com/l/ADOY7vfj-s9OdI9nWXJvBpGhkDmJyrLmaKsB/image.png)\n",
        "\n",
        "## The high-level definitions of these parts are as follows:\n",
        "\n",
        "- The Central Processing Unit (or CPU) is the part of the computer that is built to be obsessed with “what is next?” If your computer is rated at 3.0 Gigahertz, it means that the CPU will ask “What next?” three billion times per second. You are going to have to learn how to talk fast to keep up with the CPU.\n",
        "- The Main Memory is used to store information that the CPU needs in a hurry. The main memory is nearly as fast as the CPU. But the information stored in the main memory vanishes when the computer is turned off.\n",
        "- The Secondary Memory is also used to store information, but it is much slower than the main memory. The advantage of the secondary memory is that it can store information even when there is no power to the computer. Examples of secondary memory are disk drives or flash memory (typically found in USB sticks and portable music players).\n",
        "- The Input and Output Devices are simply our screen, keyboard, mouse, microphone, speaker, touchpad, etc. They are all of the ways we interact with the computer.\n",
        "- These days, most computers also have a Network Connection to retrieve information over a network. We can think of the network as a very slow place to store and retrieve data that might not always be “up”. So in a sense, the network is a slower and at times unreliable form of Secondary Memory.\n",
        "\n",
        "While most of the detail of how these components work is best left to computer builders, it helps to have some terminology so we can talk about these different parts as we write our programs.\n",
        "\n",
        "As a programmer, your job is to use and orchestrate each of these resources to solve the problem that you need to solve and analyze the data you get from the solution. As a programmer you will mostly be “talking” to the CPU and telling it what to do next. Sometimes you will tell the CPU to use the main memory, secondary memory, network, or the input/output devices.\n",
        "\n",
        "![Figure 1.4: Where Are You?](https://www.evernote.com/l/ADMy4zFs4LNMaakU8udOdH7qyHnqlB9yiRQB/image.png)\n",
        "\n",
        "You need to be the person who answers the CPU’s “What next?” question. But it would be very uncomfortable to shrink you down to 5mm tall and insert you into the computer just so you could issue a command three billion times per second. So instead, you must write down your instructions in advance. We call these stored instructions a program and the act of writing these instructions down and getting the instructions to be correct programming.\n",
        "\n"
      ]
    },
    {
      "cell_type": "markdown",
      "metadata": {
        "id": "peWk6zq8BerJ"
      },
      "source": [
        "## 1.3 Understanding programming\n",
        "\n",
        "In the rest of this book, we will try to turn you into a person who is skilled in the art of programming. In the end you will be a programmer - perhaps not a professional programmer, but at least you will have the skills to look at a data/information analysis problem and develop a program to solve the problem.\n",
        "\n",
        "In a sense, you need two skills to be a programmer:\n",
        "\n",
        "- First, you need to know the programming language (Python) - you need to know the vocabulary and the grammar. You need to be able to spell the words in this new language properly and know how to construct well-forme “sentences” in this new language.\n",
        "- Second, you need to “tell a story”. In writing a story, you combine words and sentences to convey an idea to the reader. There is a skill and art in constructing the story, and skill in story writing is improved by doing some writing and getting some feedback. In programming, our program is the\n",
        "“story” and the problem you are trying to solve is the “idea”.\n",
        "\n",
        "Once you learn one programming language such as Python, you will find it much easier to learn a second programming language such as JavaScript or C++. The new programming language has very different vocabulary and grammar but the\n",
        "problem-solving skills will be the same across all programming languages.\n",
        "\n",
        "You will learn the “vocabulary” and “sentences” of Python pretty quickly. It will take longer for you to be able to write a coherent program to solve a brand-new problem. We teach programming much like we teach writing. We start reading and explaining programs, then we write simple programs, and then we write in- creasingly complex programs over time. At some point you “get your muse” and see the patterns on your own and can see more naturally how to take a problem and write a program that solves that problem. And once you get to that point, programming becomes a very pleasant and creative process.\n",
        "We start with the vocabulary and structure of Python programs. Be patient as the simple examples remind you of when you started reading for the first time."
      ]
    },
    {
      "cell_type": "markdown",
      "metadata": {
        "id": "KPwXtmD3BqeA"
      },
      "source": [
        "## 1.4 Words and sentences\n",
        "\n",
        "Unlike human languages, the Python vocabulary is actually pretty small. We call this “vocabulary” the “reserved words”. These are words that have very special meaning to Python. When Python sees these words in a Python program, they have one and only one meaning to Python. Later as you write programs you will make up your own words that have meaning to you called variables. You will have great latitude in choosing your names for your variables, but you cannot use any of Python’s reserved words as a name for a variable.\n",
        "\n",
        "When we train a dog, we use special words like “sit”, “stay”, and “fetch”. When you talk to a dog and don’t use any of the reserved words, they just look at you with a quizzical look on their face until you say a reserved word. For example, if you say, “I wish more people would walk to improve their overall health”, what most dogs likely hear is, “blah blah blah walk blah blah blah blah.” That is because “walk” is a reserved word in dog language. Many might suggest that the language between humans and cats has no reserved words1.\n",
        "The reserved words in the language where humans talk to Python include the following:\n",
        "\n",
        "```python\n",
        "and       del       global       not       with\n",
        "as        elif      if           or        yield\n",
        "assert    else      import       pass\n",
        "break     except    in           raise\n",
        "class     finally   is           return\n",
        "continue  for       lambda       try\n",
        "def       from      nonlocal     while\n",
        "```\n",
        "\n",
        "That is it, and unlike a dog, Python is already completely trained. When you say “try”, Python will try every time you say it without fail.\n",
        "\n",
        "We will learn these reserved words and how they are used in good time, but for now we will focus on the Python equivalent of “speak” (in human-to-dog language). The nice thing about telling Python to speak is that we can even tell it what to say by giving it a message in quotes:\n",
        "\n",
        "```python\n",
        "print('Hello world!')\n",
        "```\n",
        "\n",
        "And we have even written our first syntactically correct Python sentence. Our sentence starts with the function print followed by a string of text of our choosing enclosed in single quotes. The strings in the print statements are enclosed in quotes. Single quotes and double quotes do the same thing; most people use single quotes except in cases like this where a single quote (which is also an apostrophe) appears in the string."
      ]
    },
    {
      "cell_type": "markdown",
      "metadata": {
        "id": "e9f3ELApC8JF"
      },
      "source": [
        "## 1.5 Conversing with Python\n",
        "\n",
        "Now that we have a word and a simple sentence that we know in Python, we need to know how to start a conversation with Python to test our new language skills.\n",
        "\n",
        "Before you can converse with Python, you must first install the Python software on your computer and learn how to start Python on your computer. That is too much detail for this chapter so I suggest that you consult www.py4e.com where I have detailed instructions and screencasts of setting up and starting Python on Macintosh and Windows systems. At some point, you will be in a terminal or command window and you will type python and the Python interpreter will start executing in interactive mode and appear somewhat as follows:\n",
        "\n",
        "```python\n",
        "Python 3.5.1 (v3.5.1:37a07cee5969, Dec 6 2015, 01:54:25) [MSC v.1900 64 bit (AMD64)] on win32\n",
        "Type \"help\", \"copyright\", \"credits\" or \"license\" for more information.\n",
        ">>>\n",
        "```\n",
        "\n",
        "The `>>>` prompt is the Python interpreter’s way of asking you, “What do you want me to do next?” Python is ready to have a conversation with you. All you have to know is how to speak the Python language.\n",
        "Let’s say for example that you did not know even the simplest Python language words or sentences. You might want to use the standard line that astronauts use when they land on a faraway planet and try to speak with the inhabitants of the planet:\n",
        "\n",
        "```python\n",
        ">>> I come in peace, please take me to your leader\n",
        "File \"<stdin>\", line 1\n",
        "  I come in peace, please take me to your leader\n",
        "       ^\n",
        "SyntaxError: invalid syntax\n",
        ">>>\n",
        "```\n",
        "\n",
        "This is not going so well. Unless you think of something quickly, the inhabitants of the planet are likely to stab you with their spears, put you on a spit, roast you over a fire, and eat you for dinner.\n",
        "Luckily you brought a copy of this book on your travels, and you thumb to this very page and try again:\n",
        "\n",
        "```python\n",
        ">>> print('Hello world!')\n",
        "Hello world!\n",
        "```\n",
        "\n",
        "This is looking much better, so you try to communicate some more:\n",
        "\n",
        "```python\n",
        ">>> print('You must be the legendary god that comes from the sky') You must be the legendary god that comes from the sky\n",
        ">>> print('We have been waiting for you for a long time')\n",
        "We have been waiting for you for a long time\n",
        ">>> print('Our legend says you will be very tasty with mustard') Our legend says you will be very tasty with mustard\n",
        ">>> print 'We will have a feast tonight unless you say\n",
        "File \"<stdin>\", line 1\n",
        "  print 'We will have a feast tonight unless you say\n",
        "                                                   ^\n",
        "SyntaxError: Missing parentheses in call to 'print'\n",
        ">>>\n",
        "```\n",
        "\n",
        "The conversation was going so well for a while and then you made the tiniest mistake using the Python language and Python brought the spears back out.\n",
        "\n",
        "At this point, you should also realize that while Python is amazingly complex and powerful and very picky about the syntax you use to communicate with it, Python is not intelligent. You are really just having a conversation with yourself, but using proper syntax.\n",
        "\n",
        "In a sense, when you use a program written by someone else the conversation is between you and those other programmers with Python acting as an intermediary. Python is a way for the creators of programs to express how the conversation is supposed to proceed. And in just a few more chapters, you will be one of those programmers using Python to talk to the users of your program.\n",
        "\n",
        "Before we leave our first conversation with the Python interpreter, you should prob- ably know the proper way to say “good-bye” when interacting with the inhabitants of Planet Python:\n",
        "\n",
        "```python\n",
        ">>> good-bye\n",
        "Traceback (most recent call last): File \"<stdin>\", line 1, in <module> NameError: name 'good' is not defined \n",
        ">>> if you don't mind, I need to leave File \"<stdin>\", line 1\n",
        "  if you don't mind, I need to leave\n",
        "           ^\n",
        "SyntaxError: invalid syntax\n",
        ">>> quit()\n",
        "```\n",
        "\n",
        "You will notice that the error is different for the first two incorrect attempts. The second error is different because if is a reserved word and Python saw the reserved word and thought we were trying to say something but got the syntax of the sentence wrong.\n",
        "\n",
        "The proper way to say “good-bye” to Python is to enter `quit()` at the interactive chevron `>>>` prompt. It would have probably taken you quite a while to guess that one, so having a book handy probably will turn out to be helpful."
      ]
    },
    {
      "cell_type": "markdown",
      "metadata": {
        "id": "2zy3si6lEtGZ"
      },
      "source": [
        "## 1.6.1 Jupyter Notebooks!\n",
        "\n",
        "This page is running Python in the background to render the text as HTML, maintain the state of the document, and communicate with a personal Python kernel. Try it out!"
      ]
    },
    {
      "cell_type": "code",
      "metadata": {
        "colab": {
          "base_uri": "https://localhost:8080/"
        },
        "id": "k5YJzS7YFJdN",
        "outputId": "9eaba160-8fed-4a39-9dc1-46b1bf4e1d43"
      },
      "source": [
        "# try changing this string and run the code by clicking the \"play\" button at left.\n",
        "print(\"Am I a hacker?\")"
      ],
      "execution_count": null,
      "outputs": [
        {
          "output_type": "stream",
          "text": [
            "Am I a hacker?\n"
          ],
          "name": "stdout"
        }
      ]
    },
    {
      "cell_type": "markdown",
      "metadata": {
        "id": "Mk42wDwZDwQd"
      },
      "source": [
        "## 1.6 Terminology: Interpreter and compiler\n",
        "\n",
        "Python is a high-level language intended to be relatively straightforward for humans to read and write and for computers to read and process. Other high-level languages include Java, C++, PHP, Ruby, Basic, Perl, JavaScript, and many more. The actual hardware inside the Central Processing Unit (CPU) does not under- stand any of these high-level languages.\n",
        "\n",
        "The CPU understands a language we call machine language. Machine language is very simple and frankly very tiresome to write because it is represented all in zeros and ones:\n",
        "```\n",
        "001010001110100100101010000001111\n",
        "11100110000011101010010101101101\n",
        "...\n",
        "```\n",
        "\n",
        "Machine language seems quite simple on the surface, given that there are only zeros and ones, but its syntax is even more complex and far more intricate than Python. So very few programmers ever write machine language. Instead we build various translators to allow programmers to write in high-level languages like Python or JavaScript and these translators convert the programs to machine language for actual execution by the CPU.\n",
        "\n",
        "Since machine language is tied to the computer hardware, machine language is not portable across different types of hardware. Programs written in high-level languages can be moved between different computers by using a different interpreter on the new machine or recompiling the code to create a machine language version of the program for the new machine.\n",
        "\n",
        "These programming language translators fall into two general categories: (1) interpreters and (2) compilers.\n",
        "\n",
        "An interpreter reads the source code of the program as written by the programmer, parses the source code, and interprets the instructions on the fly. Python is an interpreter and when we are running Python interactively, we can type a line of Python (a sentence) and Python processes it immediately and is ready for us to type another line of Python.\n",
        "\n",
        "Some of the lines of Python tell Python that you want it to remember some value for later. We need to pick a name for that value to be remembered and we can use that symbolic name to retrieve the value later. We use the term variable to refer to the labels we use to refer to this stored data.\n",
        "\n",
        "```python\n",
        ">>> x = 6\n",
        ">>> print(x)\n",
        "6\n",
        ">>> y = x * 7\n",
        ">>> print(y)\n",
        "42\n",
        ">>>\n",
        "```\n",
        "\n",
        "\n",
        "In this example, we ask Python to remember the value six and use the label x so we can retrieve the value later. We verify that Python has actually remembered the value using print. Then we ask Python to retrieve x and multiply it by seven and put the newly computed value in y. Then we ask Python to print out the value currently in y.\n",
        "\n",
        "Even though we are typing these commands into Python one line at a time, Python is treating them as an ordered sequence of statements with later statements able to retrieve data created in earlier statements. We are writing our first simple paragraph with four sentences in a logical and meaningful order.\n",
        "\n",
        "It is the nature of an interpreter to be able to have an interactive conversation as shown above. A compiler needs to be handed the entire program in a file, and then it runs a process to translate the high-level source code into machine language and then the compiler puts the resulting machine language into a file for later execution.\n",
        "\n",
        "If you have a Windows system, often these executable machine language programs have a suffix of “.exe” or “.dll” which stand for “executable” and “dynamic link library” respectively. In Linux and Macintosh, there is no suffix that uniquely marks a file as executable.\n",
        "\n",
        "If you were to open an executable file in a text editor, it would look completely crazy and be unreadable:\n",
        "\n",
        "```\n",
        "^?ELF^A^A^A^@^@^@^@^@^@^@^@^@^B^@^C^@^A^@^@^@\\xa0\\x82\n",
        "^D^H4^@^@^@\\x90^]^@^@^@^@^@^@4^@ ^@^G^@(^@$^@!^@^F^@\n",
        "^@^@4^@^@^@4\\x80^D^H4\\x80^D^H\\xe0^@^@^@\\xe0^@^@^@^E\n",
        "^@^@^@^D^@^@^@^C^@^@^@^T^A^@^@^T\\x81^D^H^T\\x81^D^H^S\n",
        "^@^@^@^S^@^@^@^D^@^@^@^A^@^@^@^A\\^D^HQVhT\\x83^D^H\\xe8\n",
        "....\n",
        "```\n",
        "\n",
        "It is not easy to read or write machine language, so it is nice that we have inter- preters and compilers that allow us to write in high-level languages like Python or C.\n",
        "\n",
        "Now at this point in our discussion of compilers and interpreters, you should be wondering a bit about the Python interpreter itself. What language is it written in? Is it written in a compiled language? When we type “python”, what exactly is happening?\n",
        "\n",
        "The Python interpreter is written in a high-level language called “C”. You can look at the actual source code for the Python interpreter by going to www.python.org and working your way to their source code. So Python is a program itself and it is compiled into machine code. When you installed Python on your computer (or the vendor installed it), you copied a machine-code copy of the translated Python program onto your system. In Windows, the executable machine code for Python itself is likely in a file with a name like:\n",
        "\n",
        "`C:\\Python35\\python.exe`\n",
        "\n",
        "That is more than you really need to know to be a Python programmer, but sometimes it pays to answer those little nagging questions right at the beginning.\n"
      ]
    },
    {
      "cell_type": "markdown",
      "metadata": {
        "id": "Bznpk6bdFzqL"
      },
      "source": [
        "## 1.7 Writing a program\n",
        "\n",
        "Typing commands into the Python interpreter is a great way to experiment with Python’s features, but it is not recommended for solving more complex problems.\n",
        "\n",
        "When we want to write a program, we use a text editor to write the Python instructions into a file, which is called a script. By convention, Python scripts have names that end with .py.\n",
        "To execute the script, you have to tell the Python interpreter the name of the file. In a command window, you would type python hello.py as follows:\n",
        "\n",
        "```bash\n",
        "$ cat hello.py print('Hello world!') \n",
        "$ python hello.py Hello world!\n",
        "```\n",
        "\n",
        "The “$” is the operating system prompt, and the “cat hello.py” is showing us that the file “hello.py” has a one-line Python program to print a string.\n",
        "\n",
        "\n",
        "We call the Python interpreter and tell it to read its source code from the file “hello.py” instead of prompting us for lines of Python code interactively.\n",
        "\n",
        "You will notice that there was no need to have quit() at the end of the Python program in the file. When Python is reading your source code from a file, it knows to stop when it reaches the end of the file.\n"
      ]
    },
    {
      "cell_type": "markdown",
      "metadata": {
        "id": "do2CSLgPRhbY"
      },
      "source": [
        "## 1.7.1 Running shell scripts from a cell using Built-in magic commands!\n",
        "\n",
        "Jupyter notebooks have access to \"Magics\" provided by the IPython kernel. Whether Magics are available on a kernel is a decision that is made by the kernel developer on a per-kernel basis. To work properly, Magics must use a syntax element which is not valid in the underlying language. For example, the IPython kernel uses the % syntax element for Magics as % is not a valid unary operator in Python. However, % might have meaning in other languages.\n",
        "\n",
        "Here is a magic that gives you access to a shell prompt on the server:"
      ]
    },
    {
      "cell_type": "code",
      "metadata": {
        "colab": {
          "base_uri": "https://localhost:8080/"
        },
        "id": "42J_BSi1C7Ky",
        "outputId": "0b483d8c-bd23-4692-cdee-6b148cde119f"
      },
      "source": [
        "%%bash\n",
        "\n",
        "ls -ltr"
      ],
      "execution_count": null,
      "outputs": [
        {
          "output_type": "stream",
          "text": [
            "total 8\n",
            "drwxr-xr-x 1 root root 4096 Jul 16 13:20 sample_data\n",
            "drwx------ 6 root root 4096 Aug 14 18:12 drive\n"
          ],
          "name": "stdout"
        }
      ]
    },
    {
      "cell_type": "markdown",
      "metadata": {
        "id": "oSvnauuVTFr-"
      },
      "source": [
        "## 1.8 What is a program?\n",
        "\n",
        "The definition of a program at its most basic is a sequence of Python statements that have been crafted to do something. Even our simple hello.py script is a program. It is a one-line program and is not particularly useful, but in the strictest definition, it is a Python program.\n",
        "\n",
        "It might be easiest to understand what a program is by thinking about a problem that a program might be built to solve, and then looking at a program that would solve that problem.\n",
        "\n",
        "Lets say you are doing Social Computing research on Facebook posts and you are interested in the most frequently used word in a series of posts. You could print out the stream of Facebook posts and pore over the text looking for the most common word, but that would take a long time and be very mistake prone. You would be smart to write a Python program to handle the task quickly and accurately so you can spend the weekend doing something fun.\n",
        "For example, look at the following text about a clown and a car. Look at the text and figure out the most common word and how many times it occurs.\n",
        "\n",
        "```\n",
        "the clown ran after the car and the car ran into the tent\n",
        "and the tent fell down on the clown and the car\n",
        "```\n",
        "\n",
        "Then imagine that you are doing this task looking at millions of lines of text. Frankly it would be quicker for you to learn Python and write a Python program to count the words than it would be to manually scan the words.\n",
        "\n",
        "The even better news is that I already came up with a simple program to find the most common word in a text file. I wrote it, tested it, and now I am giving it to you to use so you can save some time.\n",
        "\n",
        "```python\n",
        "name = input('Enter file:')\n",
        "handle = open(name, 'r')\n",
        "counts = dict()\n",
        "\n",
        "for line in handle: words = line.split() for word in words:\n",
        "        counts[word] = counts.get(word, 0) + 1\n",
        "\n",
        "bigcount = None\n",
        "bigword = None\n",
        "for word, count in list(counts.items()):\n",
        "if bigcount is None or count > bigcount: bigword = word\n",
        "        bigcount = count\n",
        "\n",
        "print(bigword, bigcount)\n",
        "\n",
        "# Code: http://www.py4e.com/code3/words.py\n",
        "```\n",
        "\n",
        "You don’t even need to know Python to use this program. You will need to get through Chapter 10 of this book to fully understand the awesome Python techniques that were used to make the program. You are the end user, you simply use the program and marvel at its cleverness and how it saved you so much manual effort. You simply type the code into a file called words.py and run it or you download the source code from http://www.py4e.com/code3/ and run it.\n",
        "\n",
        "This is a good example of how Python and the Python language are acting as an intermediary between you (the end user) and me (the programmer). Python is a way for us to exchange useful instruction sequences (i.e., programs) in a common language that can be used by anyone who installs Python on their computer. So neither of us are talking to Python, instead we are communicating with each other through Python."
      ]
    },
    {
      "cell_type": "code",
      "metadata": {
        "colab": {
          "base_uri": "https://localhost:8080/"
        },
        "id": "BQ6ll6pVTaYc",
        "outputId": "b83cf88f-cee9-42d5-8d42-fa6365856aa4"
      },
      "source": [
        "name = input('Enter file:')\n",
        "handle = open(name, 'r')\n",
        "counts = dict()\n",
        "\n",
        "for line in handle: \n",
        "  words = line.split()\n",
        "  for word in words:\n",
        "        counts[word] = counts.get(word, 0) + 1\n",
        "\n",
        "bigcount = None\n",
        "bigword = None\n",
        "for word, count in list(counts.items()):\n",
        "  if bigcount is None or count > bigcount: \n",
        "    bigword = word\n",
        "    bigcount = count\n",
        "\n",
        "print(bigword, bigcount)\n",
        "\n",
        "# Code: http://www.py4e.com/code3/words.py"
      ],
      "execution_count": null,
      "outputs": [
        {
          "output_type": "stream",
          "text": [
            "Enter file:/emerson.txt\n",
            "a 4\n"
          ],
          "name": "stdout"
        }
      ]
    },
    {
      "cell_type": "markdown",
      "metadata": {
        "id": "xm0za2CXYycP"
      },
      "source": [
        "## 1.9 The building blocks of programs\n",
        "\n",
        "In the next few chapters, we will learn more about the vocabulary, sentence struc- ture, paragraph structure, and story structure of Python. We will learn about the powerful capabilities of Python and how to compose those capabilities together to\n",
        "create useful programs.\n",
        "\n",
        "There are some low-level conceptual patterns that we use to construct programs. These constructs are not just for Python programs, they are part of every program- ming language from machine language up to the high-level languages.\n",
        "\n",
        "### input \n",
        "Get data from the “outside world”. This might be reading data from a file, or even some kind of sensor like a microphone or GPS. In our initial programs, our input will come from the user typing data on the keyboard.\n",
        "\n",
        "### output \n",
        "Display the results of the program on a screen or store them in a file or perhaps write them to a device like a speaker to play music or speak text.\n",
        "\n",
        "### sequential execution \n",
        "Perform statements one after another in the order they are encountered in the script.\n",
        "\n",
        "### conditional execution \n",
        "Check for certain conditions and then execute or skip a sequence of statements.\n",
        "repeated execution Perform some set of statements repeatedly, usually with some variation.\n",
        "\n",
        "### reuse \n",
        "Write a set of instructions once and give them a name and then reuse those instructions as needed throughout your program.\n",
        "\n",
        "It sounds almost too simple to be true, and of course it is never so simple. It is like saying that walking is simply “putting one foot in front of the other”. The “art” of writing a program is composing and weaving these basic elements together many times over to produce something that is useful to its users.\n",
        "\n",
        "The word counting program above directly uses all of these patterns except for one."
      ]
    },
    {
      "cell_type": "markdown",
      "metadata": {
        "id": "b3m2aeH8ZJ5x"
      },
      "source": [
        "## 1.10 What could possibly go wrong?\n",
        "As we saw in our earliest conversations with Python, we must communicate very precisely when we write Python code. The smallest deviation or mistake will cause Python to give up looking at your program.\n",
        "Beginning programmers often take the fact that Python leaves no room for errors as evidence that Python is mean, hateful, and cruel. While Python seems to like everyone else, Python knows them personally and holds a grudge against them. Because of this grudge, Python takes our perfectly written programs and rejects them as “unfit” just to torment us.\n",
        "\n",
        "```python\n",
        ">>> primt 'Hello world!'\n",
        "File \"<stdin>\", line 1\n",
        "  primt 'Hello world!'\n",
        "                     ^\n",
        "SyntaxError: invalid syntax\n",
        ">>> primt ('Hello world')\n",
        "Traceback (most recent call last):\n",
        "File \"<stdin>\", line 1, in <module>\n",
        "NameError: name 'primt' is not defined\n",
        "\n",
        ">>> I hate you Python!\n",
        "File \"<stdin>\", line 1\n",
        "  I hate you Python!\n",
        "^\n",
        "SyntaxError: invalid syntax\n",
        ">>> if you come out of there, I would teach you a lesson File \"<stdin>\", line 1\n",
        "if you come out of there, I would teach you a lesson ^\n",
        "SyntaxError: invalid syntax\n",
        ">>>\n",
        "```\n",
        "\n",
        "There is little to be gained by arguing with Python. It is just a tool. It has no emotions and it is happy and ready to serve you whenever you need it. Its error messages sound harsh, but they are just Python’s call for help. It has looked at what you typed, and it simply cannot understand what you have entered.\n",
        "\n",
        "Python is much more like a dog, loving you unconditionally, having a few key words that it understands, looking you with a sweet look on its face (>>>), and waiting for you to say something it understands. When Python says “SyntaxError: invalid syntax”, it is simply wagging its tail and saying, “You seemed to say something but I just don’t understand what you meant, but please keep talking to me (>>>).”\n",
        "\n",
        "As your programs become increasingly sophisticated, you will encounter three general types of errors:\n",
        "\n",
        "### Syntax errors \n",
        "These are the first errors you will make and the easiest to fix. A syntax error means that you have violated the “grammar” rules of Python. Python does its best to point right at the line and character where it noticed it was confused. The only tricky bit of syntax errors is that sometimes the mistake that needs fixing is actually earlier in the program than where Python noticed it was confused. So the line and character that Python indicates in a syntax error may just be a starting point for your investigation.\n",
        "\n",
        "### Logic errors \n",
        "A logic error is when your program has good syntax but there is a mistake in the order of the statements or perhaps a mistake in how the statements relate to one another. A good example of a logic error might be,\n",
        "\n",
        "“take a drink from your water bottle, put it in your backpack, walk to the library, and then put the top back on the bottle.”\n",
        "\n",
        "### Semantic errors \n",
        "A semantic error is when your description of the steps to take is syntactically perfect and in the right order, but there is simply a mistake in the program. The program is perfectly correct but it does not do what you intended for it to do. A simple example would be if you were giving a person directions to a restaurant and said, “. . . when you reach the intersection with the gas station, turn left and go one mile and the restaurant is a red building on your left.” Your friend is very late and calls you to tell you that they are on a farm and walking around behind a barn, with no sign of a restaurant. Then you say “did you turn left or right at the gas station?” and they say, “I followed your directions perfectly, I have them written down, it says turn left and go one mile at the gas station.” Then you say, “I am very sorry, because while my instructions were syntactically correct, they sadly contained a small but undetected semantic error.”.\n",
        "\n",
        "Again in all three types of errors, Python is merely trying its hardest to do exactly\n",
        "what you have asked."
      ]
    },
    {
      "cell_type": "markdown",
      "metadata": {
        "id": "PE1RL0nxZpr1"
      },
      "source": [
        "## 1.11 Debugging\n",
        "\n",
        "When Python spits out an error or even when it gives you a result that is different from what you had intended, then begins the hunt for the cause of the error. Debugging is the process of finding the cause of the error in your code. When you are debugging a program, and especially if you are working on a hard bug, there are four things to try:\n",
        "\n",
        "## reading \n",
        "Examine your code, read it back to yourself, and check that it says what you meant to say.\n",
        "\n",
        "## running \n",
        "Experiment by making changes and running different versions. Often if you display the right thing at the right place in the program, the prob- lem becomes obvious, but sometimes you have to spend some time to build scaffolding.\n",
        "\n",
        "## ruminating \n",
        "Take some time to think! What kind of error is it: syntax, runtime, semantic? What information can you get from the error messages, or from the output of the program? What kind of error could cause the problem you’re seeing? What did you change last, before the problem appeared?\n",
        "\n",
        "## retreating \n",
        "At some point, the best thing to do is back off, undoing recent changes, until you get back to a program that works and that you understand. Then you can start rebuilding.\n",
        "\n",
        "Beginning programmers sometimes get stuck on one of these activities and forget the others. Finding a hard bug requires reading, running, ruminating, and some- times retreating. If you get stuck on one of these activities, try the others. Each activity comes with its own failure mode.\n",
        "\n",
        "For example, reading your code might help if the problem is a typographical error, but not if the problem is a conceptual misunderstanding. If you don’t understand what your program does, you can read it 100 times and never see the error, because the error is in your head.\n",
        "\n",
        "Running experiments can help, especially if you run small, simple tests. But if you run experiments without thinking or reading your code, you might fall into a pattern I call “random walk programming”, which is the process of making random changes until the program does the right thing. Needless to say, random walk programming can take a long time.\n",
        "You have to take time to think. Debugging is like an experimental science. You should have at least one hypothesis about what the problem is. If there are two or more possibilities, try to think of a test that would eliminate one of them.\n",
        "\n",
        "Taking a break helps with the thinking. So does talking. If you explain the problem to someone else (or even to yourself), you will sometimes find the answer before you finish asking the question.\n",
        "\n",
        "But even the best debugging techniques will fail if there are too many errors, or if the code you are trying to fix is too big and complicated. Sometimes the best option is to retreat, simplifying the program until you get to something that works\n",
        "and that you understand.\n",
        "\n",
        "Beginning programmers are often reluctant to retreat because they can’t stand to delete a line of code (even if it’s wrong). If it makes you feel better, copy your program into another file before you start stripping it down. Then you can paste the pieces back in a little bit at a time."
      ]
    },
    {
      "cell_type": "markdown",
      "metadata": {
        "id": "o03S2BhHZ_ZP"
      },
      "source": [
        "## 1.12 The learning journey\n",
        "\n",
        "As you progress through the rest of the book, don’t be afraid if the concepts don’t seem to fit together well the first time. When you were learning to speak, it was not a problem for your first few years that you just made cute gurgling noises. And it was OK if it took six months for you to move from simple vocabulary to simple sentences and took 5-6 more years to move from sentences to paragraphs, and a few more years to be able to write an interesting complete short story on your own.\n",
        "\n",
        "We want you to learn Python much more rapidly, so we teach it all at the same time over the next few chapters. But it is like learning a new language that takes time to absorb and understand before it feels natural. That leads to some confusion as we visit and revisit topics to try to get you to see the big picture while we are defining the tiny fragments that make up that big picture. While the book is written linearly, and if you are taking a course it will progress in a linear fashion, don’t hesitate to be very nonlinear in how you approach the material. Look forwards and backwards and read with a light touch. By skimming more advanced material without fully understanding the details, you can get a better understanding of the “why?” of programming. By reviewing previous material and even redoing earlier exercises, you will realize that you actually learned a lot of material even if the material you are currently staring at seems a bit impenetrable.\n",
        "\n",
        "Usually when you are learning your first programming language, there are a few wonderful “Ah Hah!” moments where you can look up from pounding away at some rock with a hammer and chisel and step away and see that you are indeed building a beautiful sculpture.\n",
        "\n",
        "If something seems particularly hard, there is usually no value in staying up all night and staring at it. Take a break, take a nap, have a snack, explain what you are having a problem with to someone (or perhaps your dog), and then come back to it with fresh eyes. I assure you that once you learn the programming concepts in the book you will look back and see that it was all really easy and elegant and it simply took you a bit of time to absorb it.\n"
      ]
    },
    {
      "cell_type": "markdown",
      "metadata": {
        "id": "L9qzDWSWceFQ"
      },
      "source": [
        "## Data visualization with Altair\n",
        "\n",
        "Altair is a declarative statistical visualization library for Python that creates \"beautiful and effective visualizations with minimal amount of code.” What does that mean? As [Altair's website](https://altair-viz.github.io/) says:\n",
        "\n",
        "*Altair provides a Python API for building statistical visualizations in a declarative manner. By statistical visualization we mean:*\n",
        "\n",
        "1. The data source is a DataFrame that consists of columns of different data types (quantitative, ordinal, nominal and date/time).\n",
        "\n",
        "2. The DataFrame is in a tidy format where the rows correspond to samples and the columns correspond the observed variables.\n",
        "\n",
        "3. The data is mapped to the visual properties (position, color, size, shape, faceting, etc.) using the group-by operation of Pandas and SQL.\n",
        "The Altair API contains no actual visualization rendering code but instead emits JSON data structures following the Vega-Lite specification. \n",
        "\n",
        "For convenience, Altair can optionally use ipyvega to display client-side renderings seamlessly in the Jupyter notebook.\n",
        "\n",
        "Look at this visualization of the [Iris flower dataset](https://en.wikipedia.org/wiki/Iris_flower_data_set). "
      ]
    },
    {
      "cell_type": "code",
      "metadata": {
        "colab": {
          "base_uri": "https://localhost:8080/",
          "height": 205
        },
        "id": "6NYTny0tcmPb",
        "outputId": "69181c11-7482-44b6-eac3-0b96a63bce33"
      },
      "source": [
        "import altair as alt\n",
        "from vega_datasets import data\n",
        "\n",
        "# Get the data from Altair's internal collection\n",
        "source = data.iris()\n",
        "\n",
        "# select just the Setosa species\n",
        "setosa = data.iris()[source[\"species\"] == \"setosa\"]\n",
        "\n",
        "# have a peek at the data\n",
        "setosa.head()"
      ],
      "execution_count": null,
      "outputs": [
        {
          "output_type": "execute_result",
          "data": {
            "text/html": [
              "<div>\n",
              "<style scoped>\n",
              "    .dataframe tbody tr th:only-of-type {\n",
              "        vertical-align: middle;\n",
              "    }\n",
              "\n",
              "    .dataframe tbody tr th {\n",
              "        vertical-align: top;\n",
              "    }\n",
              "\n",
              "    .dataframe thead th {\n",
              "        text-align: right;\n",
              "    }\n",
              "</style>\n",
              "<table border=\"1\" class=\"dataframe\">\n",
              "  <thead>\n",
              "    <tr style=\"text-align: right;\">\n",
              "      <th></th>\n",
              "      <th>sepalLength</th>\n",
              "      <th>sepalWidth</th>\n",
              "      <th>petalLength</th>\n",
              "      <th>petalWidth</th>\n",
              "      <th>species</th>\n",
              "    </tr>\n",
              "  </thead>\n",
              "  <tbody>\n",
              "    <tr>\n",
              "      <th>0</th>\n",
              "      <td>5.1</td>\n",
              "      <td>3.5</td>\n",
              "      <td>1.4</td>\n",
              "      <td>0.2</td>\n",
              "      <td>setosa</td>\n",
              "    </tr>\n",
              "    <tr>\n",
              "      <th>1</th>\n",
              "      <td>4.9</td>\n",
              "      <td>3.0</td>\n",
              "      <td>1.4</td>\n",
              "      <td>0.2</td>\n",
              "      <td>setosa</td>\n",
              "    </tr>\n",
              "    <tr>\n",
              "      <th>2</th>\n",
              "      <td>4.7</td>\n",
              "      <td>3.2</td>\n",
              "      <td>1.3</td>\n",
              "      <td>0.2</td>\n",
              "      <td>setosa</td>\n",
              "    </tr>\n",
              "    <tr>\n",
              "      <th>3</th>\n",
              "      <td>4.6</td>\n",
              "      <td>3.1</td>\n",
              "      <td>1.5</td>\n",
              "      <td>0.2</td>\n",
              "      <td>setosa</td>\n",
              "    </tr>\n",
              "    <tr>\n",
              "      <th>4</th>\n",
              "      <td>5.0</td>\n",
              "      <td>3.6</td>\n",
              "      <td>1.4</td>\n",
              "      <td>0.2</td>\n",
              "      <td>setosa</td>\n",
              "    </tr>\n",
              "  </tbody>\n",
              "</table>\n",
              "</div>"
            ],
            "text/plain": [
              "   sepalLength  sepalWidth  petalLength  petalWidth species\n",
              "0          5.1         3.5          1.4         0.2  setosa\n",
              "1          4.9         3.0          1.4         0.2  setosa\n",
              "2          4.7         3.2          1.3         0.2  setosa\n",
              "3          4.6         3.1          1.5         0.2  setosa\n",
              "4          5.0         3.6          1.4         0.2  setosa"
            ]
          },
          "metadata": {
            "tags": []
          },
          "execution_count": 102
        }
      ]
    },
    {
      "cell_type": "code",
      "metadata": {
        "colab": {
          "base_uri": "https://localhost:8080/",
          "height": 368
        },
        "id": "Jwt1GfhyWGtj",
        "outputId": "b4953dc8-5a4c-4f93-c11f-1219be7b77a2"
      },
      "source": [
        "alt.Chart(setosa).mark_circle().encode(\n",
        "    alt.X('sepalLength'),\n",
        "    alt.Y('sepalWidth'),\n",
        "    size='petalWidth'\n",
        ")"
      ],
      "execution_count": null,
      "outputs": [
        {
          "output_type": "execute_result",
          "data": {
            "text/plain": [
              "alt.Chart(...)"
            ],
            "text/html": [
              "\n",
              "<div id=\"altair-viz-e6354e72a8d4445f91ad8bb2d208792d\"></div>\n",
              "<script type=\"text/javascript\">\n",
              "  (function(spec, embedOpt){\n",
              "    let outputDiv = document.currentScript.previousElementSibling;\n",
              "    if (outputDiv.id !== \"altair-viz-e6354e72a8d4445f91ad8bb2d208792d\") {\n",
              "      outputDiv = document.getElementById(\"altair-viz-e6354e72a8d4445f91ad8bb2d208792d\");\n",
              "    }\n",
              "    const paths = {\n",
              "      \"vega\": \"https://cdn.jsdelivr.net/npm//vega@5?noext\",\n",
              "      \"vega-lib\": \"https://cdn.jsdelivr.net/npm//vega-lib?noext\",\n",
              "      \"vega-lite\": \"https://cdn.jsdelivr.net/npm//vega-lite@4.8.1?noext\",\n",
              "      \"vega-embed\": \"https://cdn.jsdelivr.net/npm//vega-embed@6?noext\",\n",
              "    };\n",
              "\n",
              "    function loadScript(lib) {\n",
              "      return new Promise(function(resolve, reject) {\n",
              "        var s = document.createElement('script');\n",
              "        s.src = paths[lib];\n",
              "        s.async = true;\n",
              "        s.onload = () => resolve(paths[lib]);\n",
              "        s.onerror = () => reject(`Error loading script: ${paths[lib]}`);\n",
              "        document.getElementsByTagName(\"head\")[0].appendChild(s);\n",
              "      });\n",
              "    }\n",
              "\n",
              "    function showError(err) {\n",
              "      outputDiv.innerHTML = `<div class=\"error\" style=\"color:red;\">${err}</div>`;\n",
              "      throw err;\n",
              "    }\n",
              "\n",
              "    function displayChart(vegaEmbed) {\n",
              "      vegaEmbed(outputDiv, spec, embedOpt)\n",
              "        .catch(err => showError(`Javascript Error: ${err.message}<br>This usually means there's a typo in your chart specification. See the javascript console for the full traceback.`));\n",
              "    }\n",
              "\n",
              "    if(typeof define === \"function\" && define.amd) {\n",
              "      requirejs.config({paths});\n",
              "      require([\"vega-embed\"], displayChart, err => showError(`Error loading script: ${err.message}`));\n",
              "    } else if (typeof vegaEmbed === \"function\") {\n",
              "      displayChart(vegaEmbed);\n",
              "    } else {\n",
              "      loadScript(\"vega\")\n",
              "        .then(() => loadScript(\"vega-lite\"))\n",
              "        .then(() => loadScript(\"vega-embed\"))\n",
              "        .catch(showError)\n",
              "        .then(() => displayChart(vegaEmbed));\n",
              "    }\n",
              "  })({\"config\": {\"view\": {\"continuousWidth\": 400, \"continuousHeight\": 300}}, \"data\": {\"name\": \"data-7bfc81ce5b99a34f72772b790cc3c077\"}, \"mark\": \"circle\", \"encoding\": {\"size\": {\"type\": \"quantitative\", \"field\": \"petalWidth\"}, \"x\": {\"type\": \"quantitative\", \"field\": \"sepalLength\"}, \"y\": {\"type\": \"quantitative\", \"field\": \"sepalWidth\"}}, \"$schema\": \"https://vega.github.io/schema/vega-lite/v4.8.1.json\", \"datasets\": {\"data-7bfc81ce5b99a34f72772b790cc3c077\": [{\"sepalLength\": 5.1, \"sepalWidth\": 3.5, \"petalLength\": 1.4, \"petalWidth\": 0.2, \"species\": \"setosa\"}, {\"sepalLength\": 4.9, \"sepalWidth\": 3.0, \"petalLength\": 1.4, \"petalWidth\": 0.2, \"species\": \"setosa\"}, {\"sepalLength\": 4.7, \"sepalWidth\": 3.2, \"petalLength\": 1.3, \"petalWidth\": 0.2, \"species\": \"setosa\"}, {\"sepalLength\": 4.6, \"sepalWidth\": 3.1, \"petalLength\": 1.5, \"petalWidth\": 0.2, \"species\": \"setosa\"}, {\"sepalLength\": 5.0, \"sepalWidth\": 3.6, \"petalLength\": 1.4, \"petalWidth\": 0.2, \"species\": \"setosa\"}, {\"sepalLength\": 5.4, \"sepalWidth\": 3.9, \"petalLength\": 1.7000000000000002, \"petalWidth\": 0.4, \"species\": \"setosa\"}, {\"sepalLength\": 4.6, \"sepalWidth\": 3.4, \"petalLength\": 1.4, \"petalWidth\": 0.30000000000000004, \"species\": \"setosa\"}, {\"sepalLength\": 5.0, \"sepalWidth\": 3.4, \"petalLength\": 1.5, \"petalWidth\": 0.2, \"species\": \"setosa\"}, {\"sepalLength\": 4.4, \"sepalWidth\": 2.9, \"petalLength\": 1.4, \"petalWidth\": 0.2, \"species\": \"setosa\"}, {\"sepalLength\": 4.9, \"sepalWidth\": 3.1, \"petalLength\": 1.5, \"petalWidth\": 0.1, \"species\": \"setosa\"}, {\"sepalLength\": 5.4, \"sepalWidth\": 3.7, \"petalLength\": 1.5, \"petalWidth\": 0.2, \"species\": \"setosa\"}, {\"sepalLength\": 4.8, \"sepalWidth\": 3.4, \"petalLength\": 1.6, \"petalWidth\": 0.2, \"species\": \"setosa\"}, {\"sepalLength\": 4.8, \"sepalWidth\": 3.0, \"petalLength\": 1.4, \"petalWidth\": 0.1, \"species\": \"setosa\"}, {\"sepalLength\": 4.3, \"sepalWidth\": 3.0, \"petalLength\": 1.1, \"petalWidth\": 0.1, \"species\": \"setosa\"}, {\"sepalLength\": 5.8, \"sepalWidth\": 4.0, \"petalLength\": 1.2, \"petalWidth\": 0.2, \"species\": \"setosa\"}, {\"sepalLength\": 5.7, \"sepalWidth\": 4.4, \"petalLength\": 1.5, \"petalWidth\": 0.4, \"species\": \"setosa\"}, {\"sepalLength\": 5.4, \"sepalWidth\": 3.9, \"petalLength\": 1.3, \"petalWidth\": 0.4, \"species\": \"setosa\"}, {\"sepalLength\": 5.1, \"sepalWidth\": 3.5, \"petalLength\": 1.4, \"petalWidth\": 0.30000000000000004, \"species\": \"setosa\"}, {\"sepalLength\": 5.7, \"sepalWidth\": 3.8, \"petalLength\": 1.7000000000000002, \"petalWidth\": 0.30000000000000004, \"species\": \"setosa\"}, {\"sepalLength\": 5.1, \"sepalWidth\": 3.8, \"petalLength\": 1.5, \"petalWidth\": 0.30000000000000004, \"species\": \"setosa\"}, {\"sepalLength\": 5.4, \"sepalWidth\": 3.4, \"petalLength\": 1.7000000000000002, \"petalWidth\": 0.2, \"species\": \"setosa\"}, {\"sepalLength\": 5.1, \"sepalWidth\": 3.7, \"petalLength\": 1.5, \"petalWidth\": 0.4, \"species\": \"setosa\"}, {\"sepalLength\": 4.6, \"sepalWidth\": 3.6, \"petalLength\": 1.0, \"petalWidth\": 0.2, \"species\": \"setosa\"}, {\"sepalLength\": 5.1, \"sepalWidth\": 3.3, \"petalLength\": 1.7000000000000002, \"petalWidth\": 0.5, \"species\": \"setosa\"}, {\"sepalLength\": 4.8, \"sepalWidth\": 3.4, \"petalLength\": 1.9, \"petalWidth\": 0.2, \"species\": \"setosa\"}, {\"sepalLength\": 5.0, \"sepalWidth\": 3.0, \"petalLength\": 1.6, \"petalWidth\": 0.2, \"species\": \"setosa\"}, {\"sepalLength\": 5.0, \"sepalWidth\": 3.4, \"petalLength\": 1.6, \"petalWidth\": 0.4, \"species\": \"setosa\"}, {\"sepalLength\": 5.2, \"sepalWidth\": 3.5, \"petalLength\": 1.5, \"petalWidth\": 0.2, \"species\": \"setosa\"}, {\"sepalLength\": 5.2, \"sepalWidth\": 3.4, \"petalLength\": 1.4, \"petalWidth\": 0.2, \"species\": \"setosa\"}, {\"sepalLength\": 4.7, \"sepalWidth\": 3.2, \"petalLength\": 1.6, \"petalWidth\": 0.2, \"species\": \"setosa\"}, {\"sepalLength\": 4.8, \"sepalWidth\": 3.1, \"petalLength\": 1.6, \"petalWidth\": 0.2, \"species\": \"setosa\"}, {\"sepalLength\": 5.4, \"sepalWidth\": 3.4, \"petalLength\": 1.5, \"petalWidth\": 0.4, \"species\": \"setosa\"}, {\"sepalLength\": 5.2, \"sepalWidth\": 4.1, \"petalLength\": 1.5, \"petalWidth\": 0.1, \"species\": \"setosa\"}, {\"sepalLength\": 5.5, \"sepalWidth\": 4.2, \"petalLength\": 1.4, \"petalWidth\": 0.2, \"species\": \"setosa\"}, {\"sepalLength\": 4.9, \"sepalWidth\": 3.1, \"petalLength\": 1.5, \"petalWidth\": 0.2, \"species\": \"setosa\"}, {\"sepalLength\": 5.0, \"sepalWidth\": 3.2, \"petalLength\": 1.2, \"petalWidth\": 0.2, \"species\": \"setosa\"}, {\"sepalLength\": 5.5, \"sepalWidth\": 3.5, \"petalLength\": 1.3, \"petalWidth\": 0.2, \"species\": \"setosa\"}, {\"sepalLength\": 4.9, \"sepalWidth\": 3.6, \"petalLength\": 1.4, \"petalWidth\": 0.1, \"species\": \"setosa\"}, {\"sepalLength\": 4.4, \"sepalWidth\": 3.0, \"petalLength\": 1.3, \"petalWidth\": 0.2, \"species\": \"setosa\"}, {\"sepalLength\": 5.1, \"sepalWidth\": 3.4, \"petalLength\": 1.5, \"petalWidth\": 0.2, \"species\": \"setosa\"}, {\"sepalLength\": 5.0, \"sepalWidth\": 3.5, \"petalLength\": 1.3, \"petalWidth\": 0.30000000000000004, \"species\": \"setosa\"}, {\"sepalLength\": 4.5, \"sepalWidth\": 2.3, \"petalLength\": 1.3, \"petalWidth\": 0.30000000000000004, \"species\": \"setosa\"}, {\"sepalLength\": 4.4, \"sepalWidth\": 3.2, \"petalLength\": 1.3, \"petalWidth\": 0.2, \"species\": \"setosa\"}, {\"sepalLength\": 5.0, \"sepalWidth\": 3.5, \"petalLength\": 1.6, \"petalWidth\": 0.6000000000000001, \"species\": \"setosa\"}, {\"sepalLength\": 5.1, \"sepalWidth\": 3.8, \"petalLength\": 1.9, \"petalWidth\": 0.4, \"species\": \"setosa\"}, {\"sepalLength\": 4.8, \"sepalWidth\": 3.0, \"petalLength\": 1.4, \"petalWidth\": 0.30000000000000004, \"species\": \"setosa\"}, {\"sepalLength\": 5.1, \"sepalWidth\": 3.8, \"petalLength\": 1.6, \"petalWidth\": 0.2, \"species\": \"setosa\"}, {\"sepalLength\": 4.6, \"sepalWidth\": 3.2, \"petalLength\": 1.4, \"petalWidth\": 0.2, \"species\": \"setosa\"}, {\"sepalLength\": 5.3, \"sepalWidth\": 3.7, \"petalLength\": 1.5, \"petalWidth\": 0.2, \"species\": \"setosa\"}, {\"sepalLength\": 5.0, \"sepalWidth\": 3.3, \"petalLength\": 1.4, \"petalWidth\": 0.2, \"species\": \"setosa\"}]}}, {\"mode\": \"vega-lite\"});\n",
              "</script>"
            ]
          },
          "metadata": {
            "tags": []
          },
          "execution_count": 104
        }
      ]
    },
    {
      "cell_type": "markdown",
      "metadata": {
        "id": "gGQNv2qqaIBG"
      },
      "source": [
        "## 1.13 Glossary\n",
        "**bug** An error in a program.\n",
        "\n",
        "**central processing unit** The heart of any computer. It is what runs the software that we write; also called “CPU” or “the processor”.\n",
        "\n",
        "**compile** To translate a program written in a high-level language into a low-level\n",
        "language all at once, in preparation for later execution.\n",
        "\n",
        "**high-level language** A programming language like Python that is designed to be easy for humans to read and write.\n",
        "\n",
        "**interactive mode** A way of using the Python interpreter by typing commands and expressions at the prompt.\n",
        "\n",
        "**interpret** To execute a program in a high-level language by translating it one line at a time.\n",
        "\n",
        "**low-level language** A programming language that is designed to be easy for a computer to execute; also called “machine code” or “assembly language”.\n",
        "\n",
        "**machine code** The lowest-level language for software, which is the language that is directly executed by the central processing unit (CPU).\n",
        "\n",
        "**main memory** Stores programs and data. Main memory loses its information when the power is turned off.\n",
        "\n",
        "**parse** To examine a program and analyze the syntactic structure.\n",
        "\n",
        "**portability** A property of a program that can run on more than one kind of\n",
        "computer.\n",
        "\n",
        "**print function** An instruction that causes the Python interpreter to display a\n",
        "value on the screen.\n",
        "\n",
        "**problem solving** The process of formulating a problem, finding a solution, and\n",
        "expressing the solution.\n",
        "\n",
        "**program** A set of instructions that specifies a computation.\n",
        "\n",
        "**prompt** When a program displays a message and pauses for the user to type some\n",
        "input to the program.\n",
        "\n",
        "**secondary memory** Stores programs and data and retains its information eve when the power is turned off. Generally slower than main memory. Example of secondary memory include disk drives and flash memory in USB sticks. \n",
        "\n",
        "\n",
        "**semantics** The meaning of a program.\n",
        "\n",
        "**semantic error** An error in a program that makes it do something other than what the programmer intended.\n",
        "\n",
        "**source code** A program in a high-level language."
      ]
    },
    {
      "cell_type": "markdown",
      "metadata": {
        "id": "Z0T1NC1ia83Y"
      },
      "source": [
        "## 1.14 Exercises\n",
        "\n",
        "**Exercise 1**: What is the function of the secondary memory in a computer?\n",
        "\n",
        "a) Execute all of the computation and logic of the program\n",
        "\n",
        "b) Retrieve web pages over the Internet\n",
        "\n",
        "c) Store information for the long term, even beyond a power cycle \n",
        "\n",
        "d) Take input from the user\n"
      ]
    },
    {
      "cell_type": "code",
      "metadata": {
        "id": "xFC2GeoHbcOZ"
      },
      "source": [
        ""
      ],
      "execution_count": null,
      "outputs": []
    },
    {
      "cell_type": "markdown",
      "metadata": {
        "id": "eQzbKYvCbLMl"
      },
      "source": [
        "**Exercise 2:** What is a program?"
      ]
    },
    {
      "cell_type": "code",
      "metadata": {
        "id": "tmQjXsGJbeRv"
      },
      "source": [
        ""
      ],
      "execution_count": null,
      "outputs": []
    },
    {
      "cell_type": "markdown",
      "metadata": {
        "id": "ULN9LnLVbQ1T"
      },
      "source": [
        "**Exercise 3:** What is the difference between a compiler and an interpreter?\n"
      ]
    },
    {
      "cell_type": "code",
      "metadata": {
        "id": "Owx3dZCuVngm"
      },
      "source": [
        ""
      ],
      "execution_count": null,
      "outputs": []
    },
    {
      "cell_type": "markdown",
      "metadata": {
        "id": "OOxnCl2cxE2S"
      },
      "source": [
        "**Exercise 5**: What is wrong with the following code:\n",
        "\n",
        "```python\n",
        ">>> primt 'Hello world!'\n",
        "File \"<stdin>\", line 1\n",
        "  primt 'Hello world!'\n",
        "                     ^\n",
        "SyntaxError: invalid syntax\n",
        ">>>\n",
        "```\n",
        "\n",
        "See if you can. debug and fix it!\n"
      ]
    },
    {
      "cell_type": "code",
      "metadata": {
        "id": "klION0FXxTZr"
      },
      "source": [
        ""
      ],
      "execution_count": null,
      "outputs": []
    },
    {
      "cell_type": "markdown",
      "metadata": {
        "id": "S_4six4rxara"
      },
      "source": [
        "**Exercise 6:** Where in the computer is a variable such as “x” stored after the following Python line finishes?\n",
        "\n",
        "x = 123\n",
        "\n",
        "a) Central processing unit \n",
        "\n",
        "b) Main Memory\n",
        "\n",
        "c) Secondary Memory\n",
        "\n",
        "d) Input Devices\n",
        "\n",
        "e) Output Devices"
      ]
    },
    {
      "cell_type": "code",
      "metadata": {
        "id": "NuCfr6UkxjNV"
      },
      "source": [
        ""
      ],
      "execution_count": null,
      "outputs": []
    },
    {
      "cell_type": "markdown",
      "metadata": {
        "id": "oBxyWB1kxjuk"
      },
      "source": [
        "\n",
        "**Exercise 7:** What will the following program print out:\n",
        "\n",
        "```python\n",
        "x = 43 x=x+1 print(x)\n",
        "a) 43\n",
        "b) 44\n",
        "c) x + 1\n",
        "d) Error because x = x + 1 is not possible mathematically\n",
        "```\n",
        "\n",
        "\n"
      ]
    },
    {
      "cell_type": "code",
      "metadata": {
        "id": "iQ9dKRkFxpZU"
      },
      "source": [
        ""
      ],
      "execution_count": null,
      "outputs": []
    },
    {
      "cell_type": "markdown",
      "metadata": {
        "id": "Zjy9tlG7xqEi"
      },
      "source": [
        "**Exercise 8:** Explain each of the following using an example of a human capability: \n",
        "\n",
        "(1) Central processing unit, \n",
        "\n",
        "(2) Main Memory, \n",
        "\n",
        "(3) Secondary Memory, \n",
        "\n",
        "(4) Input Device, and \n",
        "\n",
        "(5) Output Device. \n",
        "\n",
        "For example, “What is the human equivalent to a Central Processing Unit”?\n"
      ]
    },
    {
      "cell_type": "code",
      "metadata": {
        "id": "lmC-tF6gxzZ9"
      },
      "source": [
        ""
      ],
      "execution_count": null,
      "outputs": []
    },
    {
      "cell_type": "markdown",
      "metadata": {
        "id": "23XFW2Pcxz6H"
      },
      "source": [
        "Exercise 9: How do you fix a “Syntax Error”?"
      ]
    },
    {
      "cell_type": "code",
      "metadata": {
        "id": "gxhmbxq_x1R-"
      },
      "source": [
        ""
      ],
      "execution_count": null,
      "outputs": []
    }
  ]
}