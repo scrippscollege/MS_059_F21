{
  "nbformat": 4,
  "nbformat_minor": 0,
  "metadata": {
    "colab": {
      "name": "PY4E_02.ipynb",
      "provenance": [],
      "collapsed_sections": []
    },
    "kernelspec": {
      "name": "python3",
      "display_name": "Python 3"
    },
    "language_info": {
      "name": "python"
    }
  },
  "cells": [
    {
      "cell_type": "markdown",
      "metadata": {
        "id": "krDPAQdVjyhO"
      },
      "source": [
        "# Python for Everybody (Scripps College F2021)\n",
        "\n",
        "*Python for Everybody: Exploring Data Using Python 3 Dr. Charles R. Severance* \n",
        "\n",
        "ported to Jupyter Notebooks by Douglas Goodwin, 2021.\n",
        "\n",
        "Content Copyright 2009- Dr. Charles R. Severance.\n",
        "This work is licensed under a Creative Commons Attribution-NonCommercial- ShareAlike 3.0 Unported License. This license is available at https://creativecommons.org/licenses/by-nc-sa/3.0/\n",
        "\n",
        "---\n"
      ]
    },
    {
      "cell_type": "markdown",
      "metadata": {
        "id": "-RBAILXSj1AE"
      },
      "source": [
        "# Chapter 2 \n",
        "## Variables, expressions, and statements\n",
        "\n",
        "## 2.1 Values and types\n",
        "A value is one of the basic things a program works with, like a letter or a number. The values we have seen so far are 1, 2, and “Hello, World!”\n",
        "\n",
        "These values belong to different types: 2 is an integer, and “Hello, World!” is a string, so called because it contains a “string” of letters. You (and the interpreter) can identify strings because they are enclosed in quotation marks.\n",
        "\n",
        "The print statement also works for integers. We use the python command to start the interpreter.\n",
        "\n",
        "```python\n",
        ">>> print(4)\n",
        "4\n",
        "```\n",
        "If you are not sure what type a value has, the interpreter can tell you.\n",
        "\n",
        "```python\n",
        ">>> type('Hello, World!') \n",
        "<class 'str'>\n",
        ">>> type(17)\n",
        "<class 'int'>\n",
        "```\n",
        "\n",
        "Not surprisingly, strings belong to the type str and integers belong to the type int. Less obviously, numbers with a decimal point belong to a type called float, because these numbers are represented in a format called floating point.\n",
        "\n",
        "```python\n",
        ">>> type(3.2) \n",
        "<class 'float'>\n",
        ">>> type('17') \n",
        "<class 'str'> \n",
        ">>> type('3.2') \n",
        "<class 'str'>\n",
        "```\n",
        "\n",
        "What about values like “17” and “3.2”? They look like numbers, but they are in quotation marks like strings.\n",
        "\n",
        "They’re strings.\n",
        "\n",
        "When you type a large integer, you might be tempted to use commas between groups of three digits, as in 1,000,000. This is not a legal integer in Python, but it is legal:\n",
        "\n",
        "```python\n",
        ">>> print(1,000,000) \n",
        "100\n",
        "```\n",
        "\n",
        "Well, that’s not what we expected at all! Python interprets 1,000,000 as a comma- separated sequence of integers, which it prints with spaces between.\n",
        "\n",
        "This is the first example we have seen of a semantic error: the code runs without producing an error message, but it doesn’t do the “right” thing.\n"
      ]
    },
    {
      "cell_type": "markdown",
      "metadata": {
        "id": "brhgHCtgBDTV"
      },
      "source": [
        "## 2.2 Variables\n",
        "\n",
        "One of the most powerful features of a programming language is the ability to manipulate variables. A variable is a name that refers to a value.\n",
        "\n",
        "An assignment statement creates new variables and gives them values:\n",
        "\n",
        "```python\n",
        ">>> message = 'And now for something completely different'\n",
        ">>> n = 17\n",
        ">>> pi = 3.1415926535897931\n",
        "```\n",
        "\n",
        "This example makes three assignments. The first assigns a string to a new variable named message; the second assigns the integer 17 to n; the third assigns the (approximate) value of π to pi.\n",
        "\n",
        "To display the value of a variable, you can use a print statement:\n",
        "\n",
        "```python\n",
        ">>> print(n)\n",
        "17\n",
        ">>> print(pi)\n",
        "3.141592653589793\n",
        "\n",
        "# The type of a variable is the type of the value it refers to.\n",
        ">>> type(message) \n",
        "<class 'str'>\n",
        ">>> type(n) \n",
        "<class 'int'>\n",
        ">>> type(pi) \n",
        "<class 'float'>\n",
        "\n",
        "```"
      ]
    },
    {
      "cell_type": "markdown",
      "metadata": {
        "id": "-fKeH8-qBTH1"
      },
      "source": [
        "## 2.3 Variable names and keywords\n",
        "\n",
        "Programmers generally choose names for their variables that are meaningful and document what the variable is used for.\n",
        "Variable names can be arbitrarily long. They can contain both letters and numbers, but they cannot start with a number. It is legal to use uppercase letters, but it is a good idea to begin variable names with a lowercase letter (you’ll see why later).\n",
        "\n",
        "The underscore character ( _ ) can appear in a name. It is often used in names with multiple words, such as my_name or airspeed_of_unladen_swallow. Variable names can start with an underscore character, but we generally avoid doing this unless we are writing library code for others to use.\n",
        "\n",
        "If you give a variable an illegal name, you get a syntax error:\n",
        "\n",
        "```python\n",
        ">>> 76trombones = 'big parade' \n",
        "SyntaxError: invalid syntax\n",
        ">>> more@ = 1000000\n",
        "SyntaxError: invalid syntax\n",
        ">>> class = 'Advanced Theoretical Zymurgy' \n",
        "SyntaxError: invalid syntax\n",
        "```\n",
        "\n",
        "`76trombones` is illegal because it begins with a number. more@ is illegal because it contains an illegal character, @. But what’s wrong with class?\n",
        "\n",
        "It turns out that class is one of Python’s keywords. The interpreter uses keywords to recognize the structure of the program, and they cannot be used as variable names.\n",
        "Python reserves 35 keywords:\n",
        "\n",
        "```python\n",
        "and       del       global       not       with\n",
        "as        elif      if           or        yield\n",
        "assert    else      import       pass\n",
        "break     except    in           raise\n",
        "class     finally   is           return\n",
        "continue  for       lambda       try\n",
        "def       from      nonlocal     while\n",
        "```\n",
        "\n",
        "You might want to keep this list handy. If the interpreter complains about one of your variable names and you don’t know why, see if it is on this list.\n"
      ]
    },
    {
      "cell_type": "markdown",
      "metadata": {
        "id": "NxfKxpHzByMO"
      },
      "source": [
        "## 2.4 Statements\n",
        "\n",
        "A statement is a unit of code that the Python interpreter can execute. We have seen two kinds of statements: print being an expression statement and assignment.\n",
        "\n",
        "When you type a statement in interactive mode, the interpreter executes it and displays the result, if there is one.\n",
        "\n",
        "A script usually contains a sequence of statements. If there is more than one\n",
        "statement, the results appear one at a time as the statements execute. For example, the script\n",
        "\n",
        "```python\n",
        "print(1) \n",
        "x=2 \n",
        "print(x)\n",
        "```\n",
        "\n",
        "produces the output\n",
        "\n",
        "```python\n",
        "1 2\n",
        "```\n",
        "\n",
        "The assignment statement produces no output."
      ]
    },
    {
      "cell_type": "markdown",
      "metadata": {
        "id": "dnYlAH-qCH0z"
      },
      "source": [
        "## 2.5 Operators and operands\n",
        "\n",
        "Operators are special symbols that represent computations like addition and mul- tiplication. The values the operator is applied to are called operands.\n",
        "\n",
        "The operators +, -, *, /, and ** perform addition, subtraction, multiplication, division, and exponentiation, as in the following examples:\n",
        "\n",
        "```python\n",
        "20+32\n",
        "hour-1\n",
        "hour*60+minute\n",
        "minute/60\n",
        "5**2\n",
        "(5+9)*(15-7)\n",
        "```\n",
        "\n",
        "There has been a change in the division operator between Python 2.x and Python 3.x. In Python 3.x, the result of this division is a floating point result:\n",
        "\n",
        "```python\n",
        ">>> minute = 59\n",
        ">>> minute/60\n",
        "0.9833333333333333\n",
        "```\n",
        "\n",
        "The division operator in Python 2.0 would divide two integers and truncate the result to an integer:\n",
        "\n",
        "```python\n",
        ">>> minute = 59\n",
        ">>> minute/60\n",
        "0\n",
        "```\n",
        "\n",
        "To obtain the same answer in Python 3.0 use floored ( // integer) division.\n",
        "\n",
        "```python\n",
        ">>> minute = 59\n",
        ">>> minute//60\n",
        "0\n",
        "```\n",
        "\n",
        "In Python 3.0 integer division functions much more as you would expect if you entered the expression on a calculator.\n"
      ]
    },
    {
      "cell_type": "markdown",
      "metadata": {
        "id": "NZC3iUg_CZZK"
      },
      "source": [
        "## 2.6 Expressions\n",
        "\n",
        "An expression is a combination of values, variables, and operators. A value all by itself is considered an expression, and so is a variable, so the following are all legal expressions (assuming that the variable x has been assigned a value):\n",
        "\n",
        "```python\n",
        "17\n",
        "x\n",
        "x + 17\n",
        "```\n",
        "\n",
        "If you type an expression in interactive mode, the interpreter evaluates it and displays the result:\n",
        "\n",
        "```python\n",
        ">>> 1 + 1 2\n",
        "```\n",
        "\n",
        "But in a script, an expression all by itself doesn’t do anything! This is a common source of confusion for beginners.\n",
        "Exercise 1: Type the following statements in the Python interpreter to see what they do:\n",
        "\n",
        "```\n",
        "5 \n",
        "x=5 \n",
        "x+1\n",
        "```\n"
      ]
    },
    {
      "cell_type": "markdown",
      "metadata": {
        "id": "QxGwEsyQCrxm"
      },
      "source": [
        "## 2.7 Order of operations\n",
        "\n",
        "When more than one operator appears in an expression, the order of evaluation depends on the rules of precedence. For mathematical operators, Python follows mathematical convention. The acronym **PEMDAS** is a useful way to remember the rules:\n",
        "\n",
        "- Parentheses have the highest precedence and can be used to force an expression to evaluate in the order you want. Since expressions in parentheses are evaluated first, 2 * (3-1) is 4, and (1+1)**(5-2) is 8. You can also use parentheses to make an expression easier to read, as in (minute * 100) / 60, even if it doesn’t change the result.\n",
        "- Exponentiation has the next highest precedence, so 2**1+1 is 3, not 4, and 3*1**3 is 3, not 27.\n",
        "- Multiplication and Division have the same precedence, which is higher than Addition and Subtraction, which also have the same precedence. So 2*3-1 is 5, not 4, and 6+4/2 is 8, not 5.\n",
        "- Operators with the same precedence are evaluated from left to right. So the expression 5-3-1 is 1, not 3, because the 5-3 happens first and then 1 is subtracted from 2.\n",
        "\n",
        "When in doubt, always put parentheses in your expressions to make sure the computations are performed in the order you intend."
      ]
    },
    {
      "cell_type": "markdown",
      "metadata": {
        "id": "o27RhpevDB-s"
      },
      "source": [
        "## 2.8 Modulus operator\n",
        "The modulus operator works on integers and yields the remainder when the first operand is divided by the second. In Python, the modulus operator is a percent sign (%). The syntax is the same as for other operators:\n",
        "\n",
        "```python\n",
        ">>> quotient = 7 // 3\n",
        ">>> print(quotient)\n",
        "2\n",
        ">>> remainder = 7 % 3\n",
        ">>> print(remainder)\n",
        "1\n",
        "```\n",
        "\n",
        "So 7 divided by 3 is 2 with 1 left over.\n",
        "\n",
        "The modulus operator turns out to be surprisingly useful. For example, you can check whether one number is divisible by another: if x % y is zero, then x is divisible by y.\n",
        "\n",
        "You can also extract the right-most digit or digits from a number. For example, x % 10 yields the right-most digit of x (in base 10). Similarly, x % 100 yields the last two digits."
      ]
    },
    {
      "cell_type": "markdown",
      "metadata": {
        "id": "RQRQyzfXDG8O"
      },
      "source": [
        "## 2.9 String operations\n",
        "\n",
        "The + operator works with strings, but it is not addition in the mathematical sense. Instead it performs concatenation, which means joining the strings by linking them end to end. For example:\n",
        "\n",
        "```python\n",
        ">>> first = 10\n",
        ">>> second = 15\n",
        ">>> print(first+second)\n",
        "25\n",
        ">>> first = '100'\n",
        ">>> second = '150'\n",
        ">>> print(first + second)\n",
        "100150\n",
        "```\n",
        "\n",
        "The * operator also works with strings by multiplying the content of a string by an integer. For example:\n",
        "\n",
        "```python\n",
        ">>> first = 'Test '\n",
        ">>> second = 3\n",
        ">>> print(first * second)\n",
        "Test Test Test\n",
        "```\n"
      ]
    },
    {
      "cell_type": "markdown",
      "metadata": {
        "id": "4RsklbcJDSXD"
      },
      "source": [
        "## 2.10 Asking the user for input\n",
        "Sometimes we would like to take the value for a variable from the user via their keyboard. Python provides a built-in function called input that gets input from the keyboard1. When this function is called, the program stops and waits for the user to type something. When the user presses Return or Enter, the program resumes and input returns what the user typed as a string.\n",
        "\n",
        "```python\n",
        ">>> inp = input()\n",
        "Some silly stuff\n",
        ">>> print(inp)\n",
        "Some silly stuff\n",
        "```\n",
        "\n",
        "Before getting input from the user, it is a good idea to print a prompt telling the user what to input. You can pass a string to input to be displayed to the user before pausing for input:\n",
        "\n",
        "```python\n",
        ">>> name = input('What is your name?\\n')\n",
        "What is your name?\n",
        "Chuck\n",
        ">>> print(name)\n",
        "Chuck\n",
        "```\n",
        "\n",
        "The sequence `\\n` at the end of the prompt represents a newline, which is a special character that causes a line break. That’s why the user’s input appears below the prompt.\n",
        "\n",
        "If you expect the user to type an integer, you can try to convert the return value to int using the int() function:\n",
        "\n",
        "```python\n",
        ">>> prompt = 'What...is the airspeed velocity of an unladen swallow?\\n'\n",
        ">>> speed = input(prompt)\n",
        "What...is the airspeed velocity of an unladen swallow?\n",
        "17\n",
        "\n",
        ">>> int(speed)\n",
        "17\n",
        ">>> int(speed) + 5\n",
        "22\n",
        "```\n",
        "\n",
        "But if the user types something other than a string of digits, you get an error:\n",
        "\n",
        "```python\n",
        ">>> speed = input(prompt)\n",
        "What...is the airspeed velocity of an unladen swallow? What do you mean, an African or a European swallow? \n",
        ">>> int(speed)\n",
        "ValueError: invalid literal for int() with base 10:\n",
        "```\n",
        "\n",
        "We will see how to handle this kind of error later."
      ]
    },
    {
      "cell_type": "markdown",
      "metadata": {
        "id": "__Z0x2ztDsLl"
      },
      "source": [
        "## 2.11 Comments\n",
        "\n",
        "As programs get bigger and more complicated, they get more difficult to read. Formal languages are dense, and it is often difficult to look at a piece of code and figure out what it is doing, or why.\n",
        "For this reason, it is a good idea to add notes to your programs to explain in natural language what the program is doing. These notes are called comments, and in Python they start with the # symbol:\n",
        "\n",
        "```python\n",
        "# compute the percentage of the hour that has elapsed\n",
        "percentage = (minute * 100) / 60\n",
        "```\n",
        "\n",
        "In this case, the comment appears on a line by itself. You can also put comments at the end of a line:\n",
        "\n",
        "```python\n",
        "percentage = (minute * 100) / 60 # percentage of an hour Everything \n",
        "```\n",
        "\n",
        "from the # to the end of the line is ignored; it has no effect on the\n",
        "program.\n",
        "\n",
        "Comments are most useful when they document non-obvious features of the code. It is reasonable to assume that the reader can figure out what the code does; it is much more useful to explain why.\n",
        "This comment is redundant with the code and useless:\n",
        "\n",
        "```python\n",
        "v = 5 # assign 5 to v\n",
        "```\n",
        "\n",
        "This comment contains useful information that is not in the code: \n",
        "\n",
        "```python\n",
        "v = 5 # velocity in meters/second.\n",
        "```\n",
        "\n",
        "Good variable names can reduce the need for comments, but long names can make complex expressions hard to read, so there is a trade-off."
      ]
    },
    {
      "cell_type": "markdown",
      "metadata": {
        "id": "NFxq3BKeEB5U"
      },
      "source": [
        "## 2.12 Choosing mnemonic variable names\n",
        "\n",
        "As long as you follow the simple rules of variable naming, and avoid reserved words, you have a lot of choice when you name your variables. In the beginning, this choice can be confusing both when you read a program and when you write your own programs. For example, the following three programs are identical in terms of what they accomplish, but very different when you read them and try to understand them.\n",
        "\n",
        "```python\n",
        "a = 35.0 b = 12.50 c=a*b print(c)\n",
        "hours = 35.0\n",
        "rate = 12.50\n",
        "pay = hours * rate\n",
        "print(pay)\n",
        "x1q3z9ahd = 35.0\n",
        "x1q3z9afd = 12.50\n",
        "x1q3p9afd = x1q3z9ahd * x1q3z9afd\n",
        "print(x1q3p9afd)\n",
        "```\n",
        "\n",
        "The Python interpreter sees all three of these programs as exactly the same but humans see and understand these programs quite differently. Humans will most quickly understand the intent of the second program because the programmer has chosen variable names that reflect their intent regarding what data will be stored in each variable.\n",
        "\n",
        "We call these wisely chosen variable names “mnemonic variable names”. The word mnemonic2 means “memory aid”. We choose mnemonic variable names to help us remember why we created the variable in the first place.\n",
        "\n",
        "While this all sounds great, and it is a very good idea to use mnemonic variable names, mnemonic variable names can get in the way of a beginning programmer’s ability to parse and understand code. This is because beginning programmers have not yet memorized the reserved words (there are only 33 of them) and sometimes variables with names that are too descriptive start to look like part of the language and not just well-chosen variable names.\n",
        "\n",
        "Take a quick look at the following Python sample code which loops through some data. We will cover loops soon, but for now try to just puzzle through what this means:\n",
        "\n",
        "```python\n",
        "for word in words: \n",
        "  print(word)\n",
        "```\n",
        "\n",
        "What is happening here? Which of the tokens (for, word, in, etc.) are reserved words and which are just variable names? Does Python understand at a funda- mental level the notion of words? Beginning programmers have trouble separating what parts of the code must be the same as this example and what parts of the code are simply choices made by the programmer.\n",
        "\n",
        "The following code is equivalent to the above code:\n",
        "\n",
        "```python\n",
        "for slice in pizza: \n",
        "  print(slice)\n",
        "```\n",
        "\n",
        "It is easier for the beginning programmer to look at this code and know which parts are reserved words defined by Python and which parts are simply variable names chosen by the programmer. It is pretty clear that Python has no fundamental understanding of pizza and slices and the fact that a pizza consists of a set of one or more slices.\n",
        "\n",
        "But if our program is truly about reading data and looking for words in the data, pizza and slice are very un-mnemonic variable names. Choosing them as variable names distracts from the meaning of the program.\n",
        "\n",
        "After a pretty short period of time, you will know the most common reserved words and you will start to see the reserved words jumping out at you:\n",
        "\n",
        "The parts of the code that are defined by Python (for, in, print, and :) are in bold and the programmer-chosen variables (word and words) are not in bold. Many text editors are aware of Python syntax and will color reserved words differently to give you clues to keep your variables and reserved words separate. After a while you will begin to read Python and quickly determine what is a variable and what is a reserved word."
      ]
    },
    {
      "cell_type": "markdown",
      "metadata": {
        "id": "WsDUik2kEakQ"
      },
      "source": [
        "## 2.13 Debugging\n",
        "\n",
        "At this point, the syntax error you are most likely to make is an illegal variable name, like class and yield, which are keywords, or odd~job and US$, which contain illegal characters.\n",
        "If you put a space in a variable name, Python thinks it is two operands without an operator:\n",
        "\n",
        "```python\n",
        ">>> bad name = 5\n",
        "SyntaxError: invalid syntax\n",
        ">>> month = 09\n",
        "  File \"<stdin>\", line 1\n",
        "month = 09 ^\n",
        "SyntaxError: invalid token\n",
        "```\n",
        "\n",
        "For syntax errors, the error messages don’t help much. The most common messages are SyntaxError: invalid syntax and SyntaxError: invalid token, neither of which is very informative.\n",
        "The runtime error you are most likely to make is a “use before def;” that is, trying to use a variable before you have assigned a value. This can happen if you spell a variable name wrong:\n",
        "\n",
        "```python\n",
        ">>> principal = 327.68\n",
        ">>> interest = principle * rate\n",
        "NameError: name 'principle' is not defined\n",
        "```\n",
        "\n",
        "Variables names are case sensitive, so LaTeX is not the same as latex.\n",
        "At this point, the most likely cause of a semantic error is the order of operations.\n",
        "\n",
        "For example, to evaluate 1/2π, you might be tempted to write\n",
        "\n",
        "```python\n",
        ">>> 1.0 / 2.0 * pi\n",
        "```\n",
        "\n",
        "But the division happens first, so you would get π/2, which is not the same thing! There is no way for Python to know what you meant to write, so in this case you don’t get an error message; you just get the wrong answer.\n"
      ]
    },
    {
      "cell_type": "markdown",
      "metadata": {
        "id": "1WBRpuZEEomp"
      },
      "source": [
        "## 2.14 Glossary\n",
        "\n",
        "**assignment** A statement that assigns a value to a variable.\n",
        "\n",
        "**concatenate** To join two operands end to end.\n",
        "\n",
        "**comment** Information in a program that is meant for other programmers (or\n",
        "anyone reading the source code) and has no effect on the execution of the program.\n",
        "\n",
        "**evaluate** To simplify an expression by performing the operations in order to yield\n",
        "a single value.\n",
        "\n",
        "**expression** A combination of variables, operators, and values that represents a\n",
        "single result value.\n",
        "\n",
        "**floating point** A type that represents numbers with fractional parts.\n",
        "\n",
        "**integer** A type that represents whole numbers.\n",
        "\n",
        "**keyword** A reserved word that is used by the compiler to parse a program; you\n",
        "cannot use keywords like if, def, and while as variable names. \n",
        "\n",
        "**mnemonic** A memory aid. We often give variables mnemonic names to help us\n",
        "remember what is stored in the variable.\n",
        "\n",
        "**modulus operator** An operator, denoted with a percent sign (%), that works on\n",
        "integers and yields the remainder when one number is divided by another. *Not the same as the Magics in iPython & Jupyter notebooks. *\n",
        "\n",
        "**operand** One of the values on which an operator operates.\n",
        "\n",
        "**operator** A special symbol that represents a simple computation like addition,\n",
        "multiplication, or string concatenation.\n",
        "\n",
        "**rules of precedence** The set of rules governing the order in which expressions\n",
        "involving multiple operators and operands are evaluated.\n",
        "\n",
        "**statement** A section of code that represents a command or action. So far, the\n",
        "statements we have seen are assignments and print expression statement.\n",
        "\n",
        "**string** A type that represents sequences of characters.\n",
        "\n",
        "**type** A category of values. The types we have seen so far are integers (type int),\n",
        "floating-point numbers (type float), and strings (type str).\n",
        "\n",
        "**value** One of the basic units of data, like a number or string, that a program\n",
        "manipulates.\n",
        "\n",
        "**variable** A name that refers to a value."
      ]
    },
    {
      "cell_type": "markdown",
      "metadata": {
        "id": "eEPRKugDGGNR"
      },
      "source": [
        "## 2.15 Exercises\n",
        "\n",
        "**Exercise 2**: Write a program that uses input to prompt a user for their name and then welcomes them.\n",
        "\n",
        "```\n",
        "Enter your name: Chuck\n",
        "Hello Chuck\n",
        "```\n",
        "\n"
      ]
    },
    {
      "cell_type": "code",
      "metadata": {
        "id": "IJzPMWEoHDRk"
      },
      "source": [
        ""
      ],
      "execution_count": null,
      "outputs": []
    },
    {
      "cell_type": "markdown",
      "metadata": {
        "id": "2sQDFxc1F37e"
      },
      "source": [
        "**Exercise 3**: Write a program to prompt the user for hours and rate per hour to compute gross pay.\n",
        "\n",
        "```\n",
        "Enter Hours: 35\n",
        "Enter Rate: 2.75\n",
        "Pay: 96.25\n",
        "```\n",
        "\n",
        "We won’t worry about making sure our pay has exactly two digits after the decimal place for now. If you want, you can play with the built-in Python round function to properly round the resulting pay to two decimal places.\n",
        "\n"
      ]
    },
    {
      "cell_type": "code",
      "metadata": {
        "id": "WahFlr96jnI6"
      },
      "source": [
        ""
      ],
      "execution_count": null,
      "outputs": []
    },
    {
      "cell_type": "markdown",
      "metadata": {
        "id": "HGIaioo_HH_s"
      },
      "source": [
        "**Exercise 4**: Assume that we execute the following assignment statements:\n",
        "\n",
        "```\n",
        "width = 17\n",
        "height = 12.0\n",
        "```\n",
        "\n",
        "For each of the following expressions, write the value of the expression and the type (of the value of the expression).\n",
        "\n",
        "```python\n",
        "1. width//2 2. width/2.0 3. height/3 4. 1 + 2 * 5\n",
        "```\n",
        "\n",
        "Use the Python interpreter to check your answers.\n",
        "\n"
      ]
    },
    {
      "cell_type": "code",
      "metadata": {
        "id": "fx31oND1jwkP"
      },
      "source": [
        ""
      ],
      "execution_count": null,
      "outputs": []
    },
    {
      "cell_type": "markdown",
      "metadata": {
        "id": "BT-b8f7gHKeg"
      },
      "source": [
        "**Exercise 5**: Write a program which prompts the user for a Celsius temperature, convert the temperature to Fahrenheit, and print out the converted temperature.\n"
      ]
    },
    {
      "cell_type": "code",
      "metadata": {
        "id": "iiOEPXE-HLdf"
      },
      "source": [
        ""
      ],
      "execution_count": null,
      "outputs": []
    }
  ]
}