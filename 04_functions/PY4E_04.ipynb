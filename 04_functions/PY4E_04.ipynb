{
  "nbformat": 4,
  "nbformat_minor": 0,
  "metadata": {
    "colab": {
      "name": "PY4E_04.ipynb",
      "provenance": [],
      "collapsed_sections": []
    },
    "kernelspec": {
      "name": "python3",
      "display_name": "Python 3"
    },
    "language_info": {
      "name": "python"
    }
  },
  "cells": [
    {
      "cell_type": "markdown",
      "metadata": {
        "id": "LlQgNvsy5pJn"
      },
      "source": [
        "# Python for Everybody (Scripps College F2021)\n",
        "\n",
        "*Python for Everybody: Exploring Data Using Python 3 Dr. Charles R. Severance* \n",
        "\n",
        "ported to Jupyter Notebooks by Douglas Goodwin, 2021.\n",
        "\n",
        "Content Copyright 2009- Dr. Charles R. Severance with edits and additions by Douglas Goodwin.\n",
        "\n",
        "This work is licensed under a Creative Commons Attribution-NonCommercial- ShareAlike 3.0 Unported License. This license is available at https://creativecommons.org/licenses/by-nc-sa/3.0/\n",
        "\n",
        "---"
      ]
    },
    {
      "cell_type": "markdown",
      "metadata": {
        "id": "8SOiI5XQ5rt3"
      },
      "source": [
        "# Chapter 04: Functions\n",
        "\n",
        "This is a relatively short chapter. We will learn about what functions are and how we can use them. The programs in the first chapters of the book are not large enough to require us to develop functions, but as the book moves into more and more complex programs, functions will be an essential way for us to make sense of our code.\n",
        "\n",
        "### Videos\n",
        "\n",
        "-   [Functions - Part 1](https://youtu.be/5Kzw-0-DQAk)\n",
        "-   [Functions - Part 2](https://youtu.be/AJVNYRqn8kM)\n",
        "-   [Worked Exercise 4.6](https://www.py4e.com/lessons/functions#)\n",
        "\n",
        "### Slides\n",
        "\n",
        "-   [Pythonlearn-04-Functions.pptx](https://www.py4e.com/lectures3/Pythonlearn-04-Functions.pptx)\n",
        "\n",
        "### References\n",
        "\n",
        "-   [Chapter 4: Functions](https://www.py4e.com/html3/04-functions)\n",
        "\n",
        "\n",
        "### Tools:\n",
        "\n",
        "-   [Autograder: Exercise 4.6](https://www.py4e.com/lessons_launch/pythonauto_04_06)\n",
        "-   [Quiz: Functions](https://www.py4e.com/lessons_launch/py4e_04_def_quiz)\n",
        "\n",
        "---\n",
        "\n",
        "4.1 Function calls\n",
        "\n",
        "In the context of programming, a function is a named sequence of statements that performs a computation. When you define a function, you specify the name and the sequence of statements. Later, you can “call” the function by name. We have already seen one example of a function call:\n",
        "\n",
        "```python\n",
        ">>> type(32) \n",
        "<class 'int'>\n",
        "```\n",
        "\n",
        "The name of the function is type. The expression in parentheses is called the argument of the function. The argument is a value or variable that we are passing into the function as input to the function. The result, for the type function, is the type of the argument.\n",
        "\n",
        "It is common to say that a function “takes” an argument and “returns” a result. The result is called the return value.\n",
        "\n",
        "## 4.2 Built-in functions\n",
        "\n",
        "Python provides a number of important built-in functions that we can use without needing to provide the function definition. The creators of Python wrote a set of functions to solve common problems and included them in Python for us to use.\n",
        "\n",
        "The max and min functions give us the largest and smallest values in a list, respectively:\n",
        "\n",
        "```python\n",
        ">>> max('Hello world') \n",
        "'w'\n",
        ">>> min('Hello world') \n",
        "''\n",
        ">>>\n",
        "```\n",
        "\n",
        "The max function tells us the “largest character” in the string (which turns out to be the letter “w”) and the min function shows us the smallest character (which turns out to be a space).\n",
        "Another very common built-in function is the len function which tells us how many items are in its argument. If the argument to len is a string, it returns the number of characters in the string.\n",
        "\n",
        "```python\n",
        ">>> len('Hello world')\n",
        "11\n",
        ">>>\n",
        "```\n",
        "\n",
        "These functions are not limited to looking at strings. They can operate on any set of values, as we will see in later chapters.\n",
        "\n",
        "You should treat the names of built-in functions as reserved words (i.e., avoid using “max” as a variable name)."
      ]
    },
    {
      "cell_type": "markdown",
      "metadata": {
        "id": "TaBT5KIw7bge"
      },
      "source": [
        "## Exercise: look over this [list of built-in functions](https://docs.python.org/3.8/library/functions.html) and try one out!"
      ]
    },
    {
      "cell_type": "code",
      "metadata": {
        "id": "XZ7uHzw75qdU"
      },
      "source": [
        "# Try out a built-in function!\n",
        "#"
      ],
      "execution_count": null,
      "outputs": []
    },
    {
      "cell_type": "markdown",
      "metadata": {
        "id": "-2yJp-pb-qCt"
      },
      "source": [
        "## 4.3 Type conversion functions\n",
        "\n",
        "Python also provides built-in functions that convert values from one type to an- other. The int function takes any value and converts it to an integer, if it can, or complains otherwise:\n",
        "\n",
        "```python\n",
        ">>> int('32')\n",
        "32\n",
        ">>> int('Hello')\n",
        "ValueError: invalid literal for int() with base 10: 'Hello'\n",
        "```\n",
        "\n",
        "int can convert floating-point values to integers, but it doesn’t round off; it chops off the fraction part:\n",
        "\n",
        "```python\n",
        ">>> int(3.99999)\n",
        "3\n",
        ">>> int(-2.3)\n",
        "-2\n",
        "```\n",
        "\n",
        "float converts integers and strings to floating-point numbers:\n",
        "\n",
        "```python\n",
        ">>> float(32)\n",
        "32.0\n",
        ">>> float('3.14159')\n",
        "3.14159\n",
        "```\n",
        "\n",
        "\n",
        "Finally, str() converts its argument to a string:\n",
        "\n",
        "```python\n",
        ">>> str(32)\n",
        "'32'\n",
        ">>> str(3.14159) \n",
        "'3.14159'\n",
        "```\n",
        "\n"
      ]
    },
    {
      "cell_type": "markdown",
      "metadata": {
        "id": "7-RMUbpyEnij"
      },
      "source": [
        "## 4.4 Math functions\n",
        "\n",
        "Python has a math module that provides most of the familiar mathematical func- tions. Before we can use the module, we have to import it:\n",
        ">>> import math\n",
        "This statement creates a module object named math. If you print the module\n",
        "object, you get some information about it:\n",
        "\n",
        "```python\n",
        ">>> print(math)\n",
        "<module 'math' (built-in)>\n",
        "```\n",
        "\n",
        "The module object contains the functions and variables defined in the module. To access one of the functions, you have to specify the name of the module and the name of the function, separated by a dot (also known as a period). This format is called dot notation.\n",
        "\n",
        "```python\n",
        ">>> ratio = signal_power / noise_power\n",
        ">>> decibels = 10 * math.log10(ratio)\n",
        ">>> radians = 0.7\n",
        ">>> height = math.sin(radians)\n",
        "```\n",
        "\n",
        "The first example computes the logarithm base 10 of the signal-to-noise ratio. The math module also provides a function called log that computes logarithms base e.\n",
        "\n",
        "The second example finds the sine of radians. The name of the variable is a hint that sin and the other trigonometric functions (cos, tan, etc.) take arguments in radians. To convert from degrees to radians, divide by 360 and multiply by 2π:\n",
        "\n",
        "```python\n",
        ">>> degrees = 45\n",
        ">>> radians = degrees / 360.0 * 2 * math.pi\n",
        ">>> math.sin(radians)\n",
        "0.7071067811865476\n",
        "```\n",
        "\n",
        "The expression math.pi gets the variable pi from the math module. The value of this variable is an approximation of π, accurate to about 15 digits.\n",
        "If you know your trigonometry, you can check the previous result by comparing it to the square root of two divided by two:\n",
        "\n",
        "```python\n",
        ">>> math.sqrt(2) / 2.0\n",
        "0.7071067811865476\n",
        "```"
      ]
    },
    {
      "cell_type": "markdown",
      "metadata": {
        "id": "vezBmNKcE4yp"
      },
      "source": [
        "## 4.5 Random numbers\n",
        "\n",
        "Given the same inputs, most computer programs generate the same outputs every time, so they are said to be deterministic. Determinism is usually a good thing, since we expect the same calculation to yield the same result. For some applica- tions, though, we want the computer to be unpredictable. Games are an obvious example, but there are more.\n",
        "\n",
        "Making a program truly nondeterministic turns out to be not so easy, but there are ways to make it at least seem nondeterministic. One of them is to use al- gorithms that generate pseudorandom numbers. Pseudorandom numbers are not truly random because they are generated by a deterministic computation, but just by looking at the numbers it is all but impossible to distinguish them from random.\n",
        "The random module provides functions that generate pseudorandom numbers (which I will simply call “random” from here on).\n",
        "\n",
        "The function random returns a random float between 0.0 and 1.0 (including 0.0 but not 1.0). Each time you call random, you get the next number in a long series. To see a sample, run this loop:\n",
        "\n",
        "```python\n",
        "import random\n",
        "for i in range(10):\n",
        "x = random.random() print(x)\n",
        "\n",
        "# This program produces the following list of 10 random numbers \n",
        "# between 0.0 and up to but not including 1.0.\n",
        "\n",
        "0.11132867921152356\n",
        "0.5950949227890241\n",
        "0.04820265884996877\n",
        "0.841003109276478\n",
        "0.997914947094958\n",
        "0.04842330803368111\n",
        "0.7416295948208405\n",
        "0.510535245390327\n",
        "0.27447040171978143\n",
        "0.028511805472785867\n",
        "```\n",
        "\n",
        "## Exercise 2: Run the program on your system and see what numbers you get. Run the program more than once and see what numbers you get.\n",
        "\n",
        "\n"
      ]
    },
    {
      "cell_type": "code",
      "metadata": {
        "id": "PeGYa0Xg_AY6"
      },
      "source": [
        ""
      ],
      "execution_count": null,
      "outputs": []
    },
    {
      "cell_type": "markdown",
      "metadata": {
        "id": "87jgDAwAFXKG"
      },
      "source": [
        "The random function is only one of many functions that handle random numbers. The function randint takes the parameters low and high, and returns an integer between low and high (including both).\n",
        "\n",
        "```python\n",
        ">>> random.randint(5, 10)\n",
        "5\n",
        ">>> random.randint(5, 10)\n",
        "9\n",
        "```\n",
        "\n",
        "To choose an element from a sequence at random, you can use choice:\n",
        "\n",
        "```python\n",
        ">>> t = [1, 2, 3]\n",
        ">>> random.choice(t)\n",
        "2\n",
        ">>> random.choice(t)\n",
        "3\n",
        "```\n",
        "\n",
        "The random module also provides functions to generate random values from con- tinuous distributions including Gaussian, exponential, gamma, and a few more."
      ]
    },
    {
      "cell_type": "markdown",
      "metadata": {
        "id": "O-BhNP5OFbBC"
      },
      "source": [
        "## 4.6 Adding new functions\n",
        "So far, we have only been using the functions that come with Python, but it is also possible to add new functions. A function definition specifies the name of a new function and the sequence of statements that execute when the function is called. Once we define a function, we can reuse the function over and over throughout our program.\n",
        "\n",
        "Here is an example:\n",
        "\n",
        "```python\n",
        "def print_lyrics():\n",
        "print(\"I'm a lumberjack, and I'm okay.\") \n",
        "print('I sleep all night and I work all day.')\n",
        "```\n",
        "\n",
        "def is a keyword that indicates that this is a function definition. The name of the function is print_lyrics. The rules for function names are the same as for variable names: letters, numbers and some punctuation marks are legal, but the first character can’t be a number. You can’t use a keyword as the name of a function, and you should avoid having a variable and a function with the same name.\n",
        "\n",
        "The empty parentheses after the name indicate that this function doesn’t take any arguments. Later we will build functions that take arguments as their inputs.\n",
        "\n",
        "The first line of the function definition is called the header; the rest is called the body. The header has to end with a colon and the body has to be indented. By convention, the indentation is always four spaces. The body can contain any number of statements.\n",
        "\n",
        "If you type a function definition in interactive mode, the interpreter prints ellipses (. . . ) to let you know that the definition isn’t complete:\n",
        "\n",
        "```python\n",
        ">>> def print_lyrics():\n",
        "...     print(\"I'm a lumberjack, and I'm okay.\")\n",
        "...     print('I sleep all night and I work all day.')\n",
        "...\n",
        "```\n",
        "\n",
        "To end the function, you have to enter an empty line (this is not necessary in a script).\n",
        "\n",
        "Defining a function creates a variable with the same name.\n",
        "\n",
        "```python\n",
        ">>> print(print_lyrics)\n",
        "<function print_lyrics at 0xb7e99e9c> >>> print(type(print_lyrics))\n",
        "<class 'function'>\n",
        "\n",
        "# The value of print_lyrics is a function object, which has type “function”. \n",
        "# The syntax for calling the new function is the same as for built-in functions:\n",
        "\n",
        "```python\n",
        ">>> print_lyrics()\n",
        "\n",
        "I'm a lumberjack, and I'm okay.\n",
        "I sleep all night and I work all day.\n",
        "```\n",
        "\n",
        "Once you have defined a function, you can use it inside another function. For example, to repeat the previous refrain, we could write a function called repeat_lyrics:\n",
        "\n",
        "```python\n",
        "def repeat_lyrics(): \n",
        "  print_lyrics() \n",
        "  print_lyrics()\n",
        "\n",
        "# And then call repeat_lyrics:\n",
        "\n",
        ">>> repeat_lyrics()\n",
        "I'm a lumberjack, and I'm okay.\n",
        "I sleep all night and I work all day.\n",
        "I'm a lumberjack, and I'm okay.\n",
        "I sleep all night and I work all day.\n",
        "But that’s not really how the song goes.\n",
        "```\n",
        "\n"
      ]
    },
    {
      "cell_type": "markdown",
      "metadata": {
        "id": "Unn46_7CGGBp"
      },
      "source": [
        "## 4.7 Definitions and uses\n",
        "\n",
        "Pulling together the code fragments from the previous section, the whole program looks like this:\n",
        "\n",
        "```python\n",
        "def print_lyrics():\n",
        "  print(\"I'm a lumberjack, and I'm okay.\") \n",
        "  print('I sleep all night and I work all day.')\n",
        "\n",
        "def repeat_lyrics(): \n",
        "  print_lyrics() \n",
        "  print_lyrics()\n",
        "\n",
        "repeat_lyrics()\n",
        "\n",
        "# Code: http://www.py4e.com/code3/lyrics.py\n",
        "```\n",
        "\n",
        "This program contains two function definitions: print_lyrics and repeat_lyrics. Function definitions get executed just like other statements, but the effect is to create function objects. The statements inside the function do not get executed until the function is called, and the function definition generates no output.\n",
        "\n",
        "As you might expect, you have to create a function before you can execute it. In other words, the function definition has to be executed before the first time it is called.\n",
        "\n",
        "\n"
      ]
    },
    {
      "cell_type": "code",
      "metadata": {
        "id": "bDrDgSjYF9bg"
      },
      "source": [
        "# Exercise 2: Move the last line of this program to the top, \n",
        "# so the function call appears before the definitions. \n",
        "# Run the program and see what error message you get."
      ],
      "execution_count": null,
      "outputs": []
    },
    {
      "cell_type": "code",
      "metadata": {
        "id": "yncLamdUGjlM"
      },
      "source": [
        "# Exercise 3: Move the function call back to the bottom and move the definition of print_lyrics \n",
        "# after the definition of repeat_lyrics. \n",
        "# What happens when you run this program?"
      ],
      "execution_count": null,
      "outputs": []
    },
    {
      "cell_type": "markdown",
      "metadata": {
        "id": "OjOX8RFAI7jJ"
      },
      "source": [
        "## 4.8 Flow of execution\n",
        "\n",
        "In order to ensure that a function is defined before its first use, you have to know the order in which statements are executed, which is called the flow of execution.\n",
        "\n",
        "Execution always begins at the first statement of the program. Statements are executed one at a time, in order from top to bottom.\n",
        "\n",
        "Function definitions do not alter the flow of execution of the program, but re- member that statements inside the function are not executed until the function is called.\n",
        "\n",
        "A function call is like a detour in the flow of execution. Instead of going to the next statement, the flow jumps to the body of the function, executes all the statements there, and then comes back to pick up where it left off.\n",
        "\n",
        "That sounds simple enough, until you remember that one function can call another. While in the middle of one function, the program might have to execute the state- ments in another function. But while executing that new function, the program might have to execute yet another function!\n",
        "\n",
        "Fortunately, Python is good at keeping track of where it is, so each time a function completes, the program picks up where it left off in the function that called it. When it gets to the end of the program, it terminates.\n",
        "\n",
        "What’s the moral of this sordid tale? When you read a program, you don’t always want to read from top to bottom. Sometimes it makes more sense if you follow the flow of execution."
      ]
    },
    {
      "cell_type": "markdown",
      "metadata": {
        "id": "6v2MKkXmJCqA"
      },
      "source": [
        "## 4.9 Parameters and arguments\n",
        "\n",
        "Some of the built-in functions we have seen require arguments. For example, when you call math.sin you pass a number as an argument. Some functions take more than one argument: math.pow takes two, the base and the exponent.\n",
        "\n",
        "Inside the function, the arguments are assigned to variables called parameters.\n",
        "Here is an example of a user-defined function that takes an argument:\n",
        "\n",
        "```python\n",
        "def print_twice(bruce): \n",
        "  print(bruce)\n",
        "  print(bruce)\n",
        "```\n",
        "\n",
        "This function assigns the argument to a parameter named bruce. When the func-\n",
        "tion is called, it prints the value of the parameter (whatever it is) twice. This function works with any value that can be printed.\n",
        "\n",
        "```python\n",
        ">>> print_twice('Spam')\n",
        "Spam\n",
        "Spam\n",
        "\n",
        ">>> print_twice(17)\n",
        "17\n",
        "17\n",
        "\n",
        ">>> import math\n",
        ">>> print_twice(math.pi)\n",
        "3.141592653589793\n",
        "3.141592653589793\n",
        "```\n",
        "\n",
        "The same rules of composition that apply to built-in functions also apply to user-defined functions, so we can use any kind of expression as an argument for print_twice:\n",
        "\n",
        "```python\n",
        ">>> print_twice('Spam '*4)\n",
        "Spam Spam Spam Spam\n",
        "Spam Spam Spam Spam\n",
        "\n",
        ">>> print_twice(math.cos(math.pi))\n",
        "-1.0\n",
        "-1.0\n",
        "```\n",
        "\n",
        "The argument is evaluated before the function is called, so in the examples the\n",
        "expressions 'Spam '*4 and math.cos(math.pi) are only evaluated once. You can also use a variable as an argument:\n",
        "\n",
        "```python\n",
        ">>> michael = 'Eric, the half a bee.'\n",
        ">>> print_twice(michael)\n",
        "Eric, the half a bee.\n",
        "Eric, the half a bee.\n",
        "```\n",
        "\n",
        "The name of the variable we pass as an argument (`michael`) has nothing to do with the name of the parameter (`bruce`). It doesn’t matter what the value was called back home (in the caller); here in print_twice, we call everybody bruce.\n",
        "\n"
      ]
    },
    {
      "cell_type": "markdown",
      "metadata": {
        "id": "CTM7a6BYJ2We"
      },
      "source": [
        "## 4.10 Fruitful functions and void functions\n",
        "\n",
        "Some of the functions we are using, such as the math functions, yield results; for lack of a better name, I call them fruitful functions. Other functions, like print_twice, perform an action but don’t return a value. They are called void functions.\n",
        "\n",
        "When you call a fruitful function, you almost always want to do something with the result; for example, you might assign it to a variable or use it as part of an expression:\n",
        "\n",
        "```python\n",
        "x = math.cos(radians)\n",
        "golden = (math.sqrt(5) + 1) / 2\n",
        "\n",
        "# When you call a function in interactive mode, Python displays the result:\n",
        "\n",
        ">>> math.sqrt(5)\n",
        "2.23606797749979\n",
        "\n",
        "But in a script, if you call a fruitful function and do not store the result of the function in a variable, the return value vanishes into the mist!\n",
        "\n",
        "```\n",
        "math.sqrt(5)\n",
        "```\n",
        "\n",
        "This script computes the square root of 5, but since it doesn’t store the result in a variable or display the result, it is not very useful.\n",
        "\n",
        "Void functions might display something on the screen or have some other effect, but they don’t have a return value. If you try to assign the result to a variable, you get a special value called None.\n",
        "\n",
        "```python\n",
        ">>> result = print_twice('Bing')\n",
        "Bing\n",
        "Bing\n",
        ">>> print(result)\n",
        "None\n",
        "```\n",
        "\n",
        "The value None is not the same as the string “None”. It is a special value that has its own type:\n",
        "\n",
        "```python\n",
        ">>> print(type(None)) \n",
        "<class 'NoneType'>\n",
        "```\n",
        "\n",
        "To return a result from a function, we use the return statement in our function. For example, we could make a very simple function called addtwo that adds two numbers together and returns a result.\n",
        "\n",
        "```python\n",
        "def addtwo(a, b): \n",
        "  added = a + b\n",
        "  return added \n",
        "  \n",
        "x = addtwo(3, 5)\n",
        "print(x)\n",
        "\n",
        "# Code: http://www.py4e.com/code3/addtwo.py\n",
        "```\n",
        "\n",
        "When this script executes, the print statement will print out “8” because the addtwo function was called with 3 and 5 as arguments. Within the function, the parameters a and b were 3 and 5 respectively. The function computed the sum of the two numbers and placed it in the local function variable named added. Then it used the return statement to send the computed value back to the calling code as the function result, which was assigned to the variable x and printed out.\n",
        "\n",
        "## Try it out!"
      ]
    },
    {
      "cell_type": "code",
      "metadata": {
        "colab": {
          "base_uri": "https://localhost:8080/"
        },
        "id": "hYSL1IJPGkRS",
        "outputId": "2f6570e9-1aa1-4fe8-cb81-4073cee89f94"
      },
      "source": [
        "def addtwo(a, b): \n",
        "  added = a + b\n",
        "  return added\n",
        "\n",
        "x = addtwo(3, 555)\n",
        "print(x)"
      ],
      "execution_count": null,
      "outputs": [
        {
          "output_type": "stream",
          "text": [
            "558\n"
          ],
          "name": "stdout"
        }
      ]
    },
    {
      "cell_type": "markdown",
      "metadata": {
        "id": "kKctVVIdL5_E"
      },
      "source": [
        "## 4.11 Why functions?\n",
        "\n",
        "It may not be clear why it is worth the trouble to divide a program into functions. There are several reasons:\n",
        "\n",
        "* Creating a new function gives you an opportunity to name a group of state- ments, which makes your program easier to read, understand, and debug.\n",
        "* Functions can make a program smaller by eliminating repetitive code. Later, if you make a change, you only have to make it in one place.\n",
        "* Dividing a long program into functions allows you to debug the parts one at a time and then assemble them into a working whole.\n",
        "* Well-designed functions are often useful for many programs. Once you write and debug one, you can reuse it.\n",
        "\n",
        "Throughout the rest of the book, often we will use a function definition to explain a concept. Part of the skill of creating and using functions is to have a function properly capture an idea such as “find the smallest value in a list of values”. Later we will show you code that finds the smallest in a list of values and we will present it to you as a function named min which takes a list of values as its argument and returns the smallest value in the list.\n",
        "\n"
      ]
    },
    {
      "cell_type": "markdown",
      "metadata": {
        "id": "KrOavr-WMPvS"
      },
      "source": [
        "## 4.12 Debugging\n",
        "\n",
        "If you are using a text editor to write your scripts, you might run into problems with spaces and tabs. The best way to avoid these problems is to use spaces exclusively (no tabs). Most text editors that know about Python do this by default, but some don’t.\n",
        "\n",
        "Tabs and spaces are usually invisible, which makes them hard to debug, so try to find an editor that manages indentation for you.\n",
        "\n",
        "Jupyter Notebooks do a reasonable job of formatting your code. See what happens when you define a function: lines under the `:` will indent automagically:"
      ]
    },
    {
      "cell_type": "code",
      "metadata": {
        "colab": {
          "base_uri": "https://localhost:8080/"
        },
        "id": "iQqvG2gbLbE9",
        "outputId": "4084fb97-3941-4303-d5ab-216d43681065"
      },
      "source": [
        "def testindent():\n",
        "  # yesh!\n",
        "  return True\n",
        "\n",
        "testindent()"
      ],
      "execution_count": null,
      "outputs": [
        {
          "output_type": "execute_result",
          "data": {
            "text/plain": [
              "True"
            ]
          },
          "metadata": {
            "tags": []
          },
          "execution_count": 13
        }
      ]
    },
    {
      "cell_type": "markdown",
      "metadata": {
        "id": "YHc2HgKvOf9_"
      },
      "source": [
        "Also, don’t forget to save your program before you run it. Some development environments do this automatically, but some don’t. In that case, the program you are looking at in the text editor is not the same as the program you are running.\n",
        "\n",
        "Debugging can take a long time if you keep running the same incorrect program over and over!\n",
        "\n",
        "Make sure that the code you are looking at is the code you are running. If you’re not sure, put something like print(\"hello\") at the beginning of the program and run it again. If you don’t see hello, you’re not running the right program!"
      ]
    },
    {
      "cell_type": "markdown",
      "metadata": {
        "id": "WEA3gZ2uOlyQ"
      },
      "source": [
        "## 4.13 Glossary\n",
        "\n",
        "**algorithm** A general process for solving a category of problems.\n",
        "\n",
        "**argument** A value provided to a function when the function is called. This value is assigned to the corresponding parameter in the function.\n",
        "\n",
        "**body** The sequence of statements inside a function definition.\n",
        "\n",
        "**composition** Using an expression as part of a larger expression, or a statement as part of a larger statement.\n",
        "\n",
        "**deterministic** Pertaining to a program that does the same thing each time it\n",
        "runs, given the same inputs.\n",
        "\n",
        "**dot notation** The syntax for calling a function in another module by specifying the module name followed by a dot (period) and the function name.\n",
        "\n",
        "**flow of execution** The order in which statements are executed during a program run.\n",
        "\n",
        "**fruitful function** A function that returns a value.\n",
        "\n",
        "**function** A named sequence of statements that performs some useful operation.\n",
        "Functions may or may not take arguments and may or may not produce a\n",
        "result.\n",
        "\n",
        "**function call** A statement that executes a function. It consists of the function name followed by an argument list.\n",
        "\n",
        "**function definition** A statement that creates a new function, specifying its name, parameters, and the statements it executes.\n",
        "\n",
        "**function object** A value created by a function definition. The name of the function is a variable that refers to a function object.\n",
        "\n",
        "**header** The first line of a function definition.\n",
        "\n",
        "**import statement** A statement that reads a module file and creates a module\n",
        "object.\n",
        "\n",
        "**module object** A value created by an import statement that provides access to\n",
        "the data and code defined in a module.\n",
        "\n",
        "**parameter** A name used inside a function to refer to the value passed as an\n",
        "argument.\n",
        "\n",
        "**pseudorandom** Pertaining to a sequence of numbers that appear to be random,\n",
        "but are generated by a deterministic program.\n",
        "\n",
        "**return value** The result of a function. If a function call is used as an expression, the return value is the value of the expression. void function A function that does not return a value."
      ]
    },
    {
      "cell_type": "markdown",
      "metadata": {
        "id": "6X1V6LPfPcwN"
      },
      "source": [
        "## 4.14 Exercises\n",
        "\n",
        "Exercise 4: What is the purpose of the “def” keyword in Python?\n",
        "\n",
        "1. It is slang that means “the following code is really cool”\n",
        "1. It indicates the start of a function\n",
        "1. It indicates that the following indented section of code is to be stored for later \n",
        "1. 2/ and 3/ are both true\n",
        "1. None of the above\n",
        "\n"
      ]
    },
    {
      "cell_type": "code",
      "metadata": {
        "id": "a9nwc4p4Oduy"
      },
      "source": [
        ""
      ],
      "execution_count": null,
      "outputs": []
    },
    {
      "cell_type": "markdown",
      "metadata": {
        "id": "Rph5wB-kP7EN"
      },
      "source": [
        "## Exercise 5: What will the following Python program print out?\n",
        "\n",
        "```python\n",
        "def fred(): \n",
        "  print(\"Zap\")\n",
        "\n",
        "def jane(): \n",
        "  print(\"ABC\")\n",
        "\n",
        "jane()\n",
        "fred()\n",
        "jane()\n",
        "```\n",
        "\n",
        "```\n",
        "a) Zap ABC jane fred jane b) Zap ABC Zap\n",
        "c) ABC Zap jane\n",
        "d) ABC Zap ABC\n",
        "e) Zap Zap Zap\n",
        "```\n"
      ]
    },
    {
      "cell_type": "code",
      "metadata": {
        "id": "IHfQCB36P-Md"
      },
      "source": [
        ""
      ],
      "execution_count": null,
      "outputs": []
    },
    {
      "cell_type": "markdown",
      "metadata": {
        "id": "N3_InMxQP-tn"
      },
      "source": [
        "## Exercise 6: Rewrite your pay computation with time-and-a-half for over- time and create a function called computepay which takes two parameters (hours and rate).\n",
        "\n",
        "```\n",
        "Enter Hours: 45\n",
        "Enter Rate: 10\n",
        "Pay: 475.0\n",
        "```\n",
        "\n"
      ]
    },
    {
      "cell_type": "code",
      "metadata": {
        "id": "pf4iBL8sQB_x"
      },
      "source": [
        ""
      ],
      "execution_count": null,
      "outputs": []
    },
    {
      "cell_type": "markdown",
      "metadata": {
        "id": "AlaBDYmRQCg5"
      },
      "source": [
        "## Exercise 7: Rewrite the `grade` program from the previous chapter using a function called `computegrade` that takes a score as its parameter and returns a grade as a string.\n",
        "\n",
        "```\n",
        " Score\n",
        ">= 0.9     A\n",
        ">= 0.8     B\n",
        ">= 0.7     C\n",
        ">= 0.6     D\n",
        "<0.6 F\n",
        "Enter score: 0.95\n",
        "A\n",
        "Enter score: perfect\n",
        "Bad score\n",
        "Enter score: 10.0\n",
        "Bad score\n",
        "Enter score: 0.75\n",
        "C\n",
        "Enter score: 0.5\n",
        "F\n",
        "```\n",
        "\n",
        "Run the program repeatedly to test the various different values for input.\n"
      ]
    },
    {
      "cell_type": "code",
      "metadata": {
        "id": "sIrMVxW7QJda"
      },
      "source": [
        ""
      ],
      "execution_count": null,
      "outputs": []
    }
  ]
}