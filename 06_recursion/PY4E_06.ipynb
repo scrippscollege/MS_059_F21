{
  "nbformat": 4,
  "nbformat_minor": 0,
  "metadata": {
    "colab": {
      "name": "PY4E_06.ipynb",
      "provenance": [],
      "collapsed_sections": []
    },
    "kernelspec": {
      "name": "python3",
      "display_name": "Python 3"
    },
    "language_info": {
      "name": "python"
    }
  },
  "cells": [
    {
      "cell_type": "markdown",
      "metadata": {
        "id": "GRNaC4jD977N"
      },
      "source": [
        "# Python for Everybody (Scripps College F2021)\n",
        "\n",
        "*Python for Everybody: Exploring Data Using Python 3 Dr. Charles R. Severance* \n",
        "\n",
        "ported to Jupyter Notebooks by Douglas Goodwin, 2021.\n",
        "\n",
        "Content Copyright 2009- Dr. Charles R. Severance with edits and additions by Douglas Goodwin.\n",
        "\n",
        "This work is licensed under a Creative Commons Attribution-NonCommercial- ShareAlike 3.0 Unported License. This license is available at https://creativecommons.org/licenses/by-nc-sa/3.0/\n",
        "\n",
        "---"
      ]
    },
    {
      "cell_type": "markdown",
      "metadata": {
        "id": "gld57TWK-aUH"
      },
      "source": [
        "# Chapter 06: Strings\n",
        "\n",
        "Loops and iteration complete our four basic programming patterns. Loops are the way we tell Python to do something over and over. Loops are the way we build programs that stay with a problem until the problem is solved.\n",
        "\n",
        "### Videos\n",
        "\n",
        "-   [Strings Part 1](https://youtu.be/dr98iM4app8)\n",
        "-   [Strings Part 2](https://youtu.be/bIFpJ-qZ3Cc)\n",
        "-   [Worked Exercise 6.5](https://youtu.be/BGTxwsDI9KY)\n",
        "\n",
        "### Slides\n",
        "\n",
        "-   [Pythonlearn-06-Strings.pptx](https://www.py4e.com/lectures3/Pythonlearn-06-Strings.pptx)\n",
        "\n",
        "### References\n",
        "\n",
        "-   [Chapter 6: Strings](https://www.py4e.com/html3/06-strings)\n",
        "\n",
        "### Tools:\n",
        "\n",
        "-   [Autograder: Exercise 6.5](https://www.py4e.com/lessons_launch/pythonauto_06_05)\n",
        "-   [Quiz: Strings](https://www.py4e.com/lessons_launch/py4e_06_str_quiz)\n",
        "\n",
        "---\n"
      ]
    },
    {
      "cell_type": "markdown",
      "metadata": {
        "id": "6Dpl4sko_lHc"
      },
      "source": [
        "## 6.1 A string is a sequence\n",
        "A string is a sequence of characters. You can access the characters one at a time with the bracket operator:\n",
        "\n",
        "```python\n",
        ">>> fruit = 'banana'\n",
        ">>> letter = fruit[1]\n",
        "```\n",
        "\n",
        "The second statement extracts the character at index position 1 from the fruit variable and assigns it to the letter variable.\n",
        "The expression in brackets is called an index. The index indicates which character in the sequence you want (hence the name).\n",
        "But you might not get what you expect:\n",
        "\n",
        "```python\n",
        ">>> print(letter)\n",
        "a\n",
        "```\n",
        "\n",
        "For most people, the first letter of “banana” is “b”, not “a”. But in Python, the index is an offset from the beginning of the string, and the offset of the first letter is zero.\n",
        "\n",
        "```python\n",
        ">>> letter = fruit[0]\n",
        ">>> print(letter)\n",
        "b\n",
        "```\n",
        "\n",
        "So “b” is the 0th letter (“zero-th”) of “banana”, “a” is the 1th letter (“one-th”), and “n” is the 2th (“two-th”) letter.\n",
        "\n",
        "You can use any expression, including variables and operators, as an index, but the value of the index has to be an integer. Otherwise you get:\n",
        "\n",
        "```python\n",
        ">>> letter = fruit[1.5]\n",
        "TypeError: string indices must be integers\n",
        "```\n",
        "\n",
        "![Fig 6.1 String Indices](https://www.evernote.com/l/ADNVv7WW_SlJAbCt39COlOtXUZ6IHv6XgjgB/image.png)\n",
        "\n"
      ]
    },
    {
      "cell_type": "markdown",
      "metadata": {
        "id": "OZCMhC4WASdF"
      },
      "source": [
        "## 6.2 Getting the length of a string using len \n",
        "\n",
        "len is a built-in function that returns the number of characters in a string:\n",
        "\n",
        "```\n",
        ">>> fruit = 'banana'\n",
        ">>> len(fruit)\n",
        "6\n",
        "```\n",
        "\n",
        "To get the last letter of a string, you might be tempted to try something like this:\n",
        "\n",
        "```\n",
        ">>> length = len(fruit)\n",
        ">>> last = fruit[length]\n",
        "IndexError: string index out of range\n",
        "```\n",
        "\n",
        "The reason for the IndexError is that there is no letter in “banana” with the index 6. Since we started counting at zero, the six letters are numbered 0 to 5. To get the last character, you have to subtract 1 from length:\n",
        "\n",
        "```\n",
        ">>> last = fruit[length-1]\n",
        ">>> print(last)\n",
        "a\n",
        "```\n",
        "\n",
        "Alternatively, you can use negative indices, which count backward from the end of the string. The expression `fruit[-1]` yields the last letter, `fruit[-2]` yields the second to last, and so on.\n",
        "\n"
      ]
    },
    {
      "cell_type": "markdown",
      "metadata": {
        "id": "AXVXq0j6AhIL"
      },
      "source": [
        "## 6.3 Traversal through a string with a loop\n",
        "A lot of computations involve processing a string one character at a time. Often they start at the beginning, select each character in turn, do something to it, and continue until the end. This pattern of processing is called a traversal. One way to write a traversal is with a while loop:\n",
        "\n",
        "```python\n",
        "index = 0\n",
        "while index < len(fruit):\n",
        "    letter = fruit[index]\n",
        "    print(letter)\n",
        "    index = index + 1\n",
        "\n",
        "```\n",
        "\n",
        "This loop traverses the string and displays each letter on a line by itself. The loop condition is index < len(fruit), so when index is equal to the length of the string, the condition is false, and the body of the loop is not executed. The last character accessed is the one with the index len(fruit)-1, which is the last character in the string.\n",
        "\n",
        "Another way to write a traversal is with a for loop: \n",
        "\n",
        "```python\n",
        "for char in fruit:\n",
        "  print(char)\n",
        "```\n",
        "\n",
        "Each time through the loop, the next character in the string is assigned to the variable char. The loop continues until no characters are left.\n",
        "\n",
        "**Exercise 1**: Write a while loop that starts at the last character in the string and works its way backwards to the first character in the string, printing each letter on a separate line, except backwards."
      ]
    },
    {
      "cell_type": "code",
      "metadata": {
        "id": "4hUWcz7392Ly"
      },
      "source": [
        "# Exercise 1"
      ],
      "execution_count": 1,
      "outputs": []
    },
    {
      "cell_type": "markdown",
      "metadata": {
        "id": "pbtEyWNbA9IJ"
      },
      "source": [
        "## 6.4 String slices\n",
        "\n",
        "A segment of a string is called a slice. Selecting a slice is similar to selecting a character:\n",
        "\n",
        "```python\n",
        ">>> s = 'Monty Python'\n",
        ">>> print(s[0:5])\n",
        "Monty\n",
        ">>> print(s[6:12])\n",
        "Python\n",
        "```\n",
        "\n",
        "The operator returns the part of the string from the “n-th” character to the “m-th” character, including the first but excluding the last.\n",
        "If you omit the first index (before the colon), the slice starts at the beginning of the string. If you omit the second index, the slice goes to the end of the string:\n",
        "\n",
        "```python\n",
        ">>> fruit = 'banana' \n",
        ">>> fruit[:3]\n",
        "'ban'\n",
        ">>> fruit[3:]\n",
        "'ana'\n",
        "```\n",
        "\n",
        "If the first index is greater than or equal to the second the result is an empty string, represented by two quotation marks:\n",
        "\n",
        "```\n",
        ">>> fruit = 'banana' \n",
        ">>> fruit[3:3]\n",
        "''\n",
        "```\n",
        "\n",
        "An empty string contains no characters and has length 0, but other than that, it is the same as any other string.\n",
        "\n",
        "**Exercise 2**: Given that fruit is a string, what does fruit[:] mean?\n",
        "\n"
      ]
    },
    {
      "cell_type": "code",
      "metadata": {
        "id": "OYLjMZV2A26r"
      },
      "source": [
        "# Exercise 2"
      ],
      "execution_count": 2,
      "outputs": []
    },
    {
      "cell_type": "markdown",
      "metadata": {
        "id": "GA6GkhNQHOmm"
      },
      "source": [
        "## 6.5 Strings are immutable\n",
        "\n",
        "It is tempting to use the operator on the left side of an assignment, with the intention of changing a character in a string. For example:\n",
        "\n",
        "```python\n",
        ">>> greeting = 'Hello, world!'\n",
        ">>> greeting[0] = 'J'\n",
        "\n",
        "TypeError: 'str' object does not support item assignment\n",
        "```\n",
        "\n",
        "The “object” in this case is the string and the “item” is the character you tried to assign. For now, an object is the same thing as a value, but we will refine that definition later. An item is one of the values in a sequence.\n",
        "\n",
        "The reason for the error is that strings are **immutable**, which means you can’t change an existing string. The best you can do is create a new string that is a variation on the original:\n",
        "\n",
        "```python\n",
        ">>> greeting = 'Hello, world!'\n",
        ">>> new_greeting = 'J' + greeting[1:]\n",
        ">>> print(new_greeting)\n",
        "Jello, world!\n",
        "```\n",
        "\n",
        "This example concatenates a new first letter onto a slice of greeting. It has no effect on the original string."
      ]
    },
    {
      "cell_type": "markdown",
      "metadata": {
        "id": "7ncDOwusHh9k"
      },
      "source": [
        "## 6.6 Looping and counting\n",
        "\n",
        "The following program counts the number of times the letter “a” appears in a string:\n",
        "\n",
        "```python\n",
        "word = 'banana' count = 0\n",
        "for letter in word:\n",
        "  if letter == 'a': \n",
        "    count = count + 1\n",
        "print(count)\n",
        "```\n",
        "\n",
        "This program demonstrates another pattern of computation called a counter. The variable count is initialized to 0 and then incremented each time an “a” is found. When the loop exits, count contains the result: the total number of a’s.\n",
        "\n",
        "**Exercise 3**: Encapsulate this code in a function named count, and gen- eralize it so that it accepts the string and the letter as arguments."
      ]
    },
    {
      "cell_type": "code",
      "metadata": {
        "id": "8hCzc5SwHOG6"
      },
      "source": [
        "# Exercise 3"
      ],
      "execution_count": 3,
      "outputs": []
    },
    {
      "cell_type": "markdown",
      "metadata": {
        "id": "CgSuXyICHxjW"
      },
      "source": [
        "## 6.7 The in operator\n",
        "\n",
        "The word in is a boolean operator that takes two strings and returns True if the first appears as a substring in the second:\n",
        "\n",
        "```python\n",
        ">>> 'a' in 'banana'\n",
        "True\n",
        ">>> 'seed' in 'banana'\n",
        "False\n",
        "```\n",
        "\n",
        "## 6.8 String comparison\n",
        "\n",
        "The comparison operators work on strings. To see if two strings are equal:\n",
        "\n",
        "```python\n",
        "if word == 'banana':\n",
        "  print('All right, bananas.')\n",
        "\n",
        "# Other comparison operations are useful for \n",
        "# putting words in alphabetical order:\n",
        "\n",
        "if word < 'banana':\n",
        "  print('Your word,' + word + ', comes before banana.')\n",
        "elif word > 'banana':\n",
        "  print('Your word,' + word + ', comes after banana.')\n",
        "else:\n",
        "  print('All right, bananas.')\n",
        "```\n",
        "\n",
        "Python does not handle uppercase and lowercase letters the same way that people do. All the uppercase letters come before all the lowercase letters, so:\n",
        "\n",
        "```\n",
        "Your word, Pineapple, comes before banana.\n",
        "```\n",
        "\n",
        "A common way to address this problem is to convert strings to a standard format, such as all lowercase, before performing the comparison. Keep that in mind in case you have to defend yourself against a man armed with a Pineapple.\n"
      ]
    },
    {
      "cell_type": "markdown",
      "metadata": {
        "id": "6LIOLVCzIJwe"
      },
      "source": [
        "## 6.9 String methods\n",
        "\n",
        "Strings are an example of Python objects. An object contains both data (the actual string itself) and methods, which are effectively functions that are built into the object and are available to any instance of the object.\n",
        "\n",
        "Python has a function called dir which lists the methods available for an object. The type function shows the type of an object and the dir function shows the available methods.\n",
        "\n",
        "```python\n",
        ">>> stuff = 'Hello world'\n",
        ">>> type(stuff)\n",
        "<class 'str'>\n",
        ">>> dir(stuff)\n",
        "['capitalize', 'casefold', 'center', 'count', 'encode', 'endswith', 'expandtabs', 'find', 'format', 'format_map', 'index', 'isalnum', 'isalpha', 'isdecimal', 'isdigit', 'isidentifier', 'islower', 'isnumeric', 'isprintable', 'isspace', 'istitle', 'isupper', 'join', 'ljust', 'lower', 'lstrip', 'maketrans', 'partition', 'replace', 'rfind', 'rindex', 'rjust', 'rpartition', 'rsplit', 'rstrip', 'split', 'splitlines', 'startswith', 'strip', 'swapcase', 'title', 'translate', 'upper', 'zfill']\n",
        ">>> help(str.capitalize)\n",
        "Help on method_descriptor:\n",
        "\n",
        "capitalize(...)\n",
        "    S.capitalize() -> str\n",
        "    Return a capitalized version of S, i.e. make the first character\n",
        "    have upper case and the rest lower case.\n",
        ">>>\n",
        "```\n",
        "\n",
        "While the dir function lists the methods, and you can use help to get some simple documentation on a method, a better source of documentation for string methods would be https://docs.python.org/library/stdtypes.html#string-methods.\n",
        "\n",
        "Calling a method is similar to calling a function (it takes arguments and returns a value) but the syntax is different. We call a method by appending the method name to the variable name using the period as a delimiter.\n",
        "\n",
        "For example, the method upper takes a string and returns a new string with all uppercase letters:\n",
        "Instead of the function syntax upper(word), it uses the method syntax word.upper().\n",
        "\n",
        "```python\n",
        ">>> word = 'banana'\n",
        ">>> new_word = word.upper()\n",
        ">>> print(new_word)\n",
        "BANANA\n",
        "```\n",
        "\n",
        "This form of dot notation specifies the name of the method, upper, and the name of the string to apply the method to, word. The empty parentheses indicate that this method takes no argument.\n",
        "\n",
        "A method call is called an invocation; in this case, we would say that we are invoking upper on the word.\n",
        "\n",
        "For example, there is a string method named find that searches for the position of one string within another:\n",
        "\n",
        "```python\n",
        ">>> word = 'banana'\n",
        ">>> index = word.find('a')\n",
        ">>> print(index)\n",
        "1\n",
        "```\n",
        "\n",
        "In this example, we invoke find on word and pass the letter we are looking for as a parameter.\n",
        "The find method can find substrings as well as characters: \n",
        "\n",
        "```\n",
        ">>> word.find('na')\n",
        "2\n",
        "\n",
        "# It can take as a second argument the index where it should start:\n",
        "\n",
        ">>> word.find('na', 3)\n",
        "4\n",
        "```\n",
        "\n",
        "One common task is to remove white space (spaces, tabs, or newlines) from the beginning and end of a string using the strip method:\n",
        "\n",
        "```python\n",
        ">>>line=' Herewego ' \n",
        ">>> line.strip()\n",
        "'Here we go'\n",
        "\n",
        "# Some methods such as startswith return boolean values.\n",
        "\n",
        ">>> line = 'Have a nice day'\n",
        ">>> line.startswith('Have')\n",
        "True\n",
        ">>> line.startswith('h')\n",
        "False\n",
        "```\n",
        "\n",
        "\n",
        "You will note that *startswith* requires case to match, so sometimes we take a line and map it all to lowercase before we do any checking using the lower method.\n",
        "\n",
        "```python\n",
        ">>> line = 'Have a nice day'\n",
        ">>> line.startswith('h')\n",
        "False\n",
        ">>> line.lower()\n",
        "'have a nice day'\n",
        ">>> line.lower().startswith('h')\n",
        "True\n",
        "```\n",
        "\n",
        "In the last example, the method lower is called and then we use startswith to see if the resulting lowercase string starts with the letter “h”. As long as we are careful with the order, we can make multiple method calls in a single expression.\n",
        "\n",
        "**Exercise 4**: There is a string method called count that is similar to the function in the previous exercise. Read the documentation of this method at:\n",
        "\n",
        "https://docs.python.org/library/stdtypes.html#string-methods\n",
        "\n",
        "Write an invocation that counts the number of times the letter a occurs in “banana”.\n"
      ]
    },
    {
      "cell_type": "code",
      "metadata": {
        "id": "mEVNRdsmHtnz"
      },
      "source": [
        "# Exercise 4"
      ],
      "execution_count": 4,
      "outputs": []
    },
    {
      "cell_type": "markdown",
      "metadata": {
        "id": "JOa0F7JoJA--"
      },
      "source": [
        "## 6.10 Parsing strings\n",
        "\n",
        "Often, we want to look into a string and find a substring. For example if we were presented a series of lines formatted as follows:\n",
        "\n",
        "```\n",
        "From stephen.marquard@ uct.ac.za Sat Jan 5 09:14:16 2008\n",
        "```\n",
        "\n",
        "and we wanted to pull out only the second half of the address (i.e., uct.ac.za)\n",
        "from each line, we can do this by using the find method and string slicing.\n",
        "\n",
        "First, we will find the position of the at-sign in the string. Then we will find the position of the first space after the at-sign. And then we will use string slicing to extract the portion of the string which we are looking for.\n",
        "\n",
        "```python\n",
        ">>> data = 'From stephen.marquard@uct.ac.za Sat Jan  5 09:14:16 2008'\n",
        ">>> atpos = data.find('@')\n",
        ">>> print(atpos)\n",
        "21\n",
        ">>> sppos = data.find(' ',atpos)\n",
        ">>> print(sppos)\n",
        "31\n",
        ">>> host = data[atpos+1:sppos]\n",
        ">>> print(host)\n",
        "uct.ac.za\n",
        ">>>\n",
        "```\n",
        "\n",
        "We use a version of the find method which allows us to specify a position in the string where we want find to start looking. When we slice, we extract the characters from “one beyond the at-sign through up to but not including the space character”.\n",
        "\n",
        "The documentation for the find method is available at https://docs.python.org/library/stdtypes.html#string-methods."
      ]
    },
    {
      "cell_type": "markdown",
      "metadata": {
        "id": "bYXdBme0JN8U"
      },
      "source": [
        "## 6.11 Format operator\n",
        "\n",
        "The format operator, % allows us to construct strings, replacing parts of the strings with the data stored in variables. When applied to integers, % is the modulus operator. But when the first operand is a string, % is the format operator.\n",
        "\n",
        "The first operand is the format string, which contains one or more format sequences that specify how the second operand is formatted. The result is a string.\n",
        "\n",
        "For example, the format sequence %d means that the second operand should be formatted as an integer (“d” stands for “decimal”):\n",
        "\n",
        "```python\n",
        ">>> camels = 42 \n",
        ">>> '%d' % camels '42'\n",
        "```\n",
        "\n",
        "The result is the string ‘42’, which is not to be confused with the integer value 42.\n",
        "\n",
        "A format sequence can appear anywhere in the string, so you can embed a value in a sentence:\n",
        "\n",
        "```python\n",
        ">>> camels = 42\n",
        ">>> 'I have spotted %d camels.' % camels \n",
        "\n",
        "'I have spotted 42 camels.'\n",
        "```\n",
        "\n",
        "If there is more than one format sequence in the string, the second argument has to be a tuple1. Each format sequence is matched with an element of the tuple, in order.\n",
        "\n",
        "The following example uses %d to format an integer, %g to format a floating-point number (don’t ask why), and %s to format a string:\n",
        "\n",
        "```python\n",
        ">>> 'In %d years I have spotted %g %s.' % (3, 0.1, 'camels') 'In 3 years I have spotted 0.1 camels.'\n",
        "```\n",
        "\n",
        "The number of elements in the tuple must match the number of format sequences in the string. The types of the elements also must match the format sequences:\n",
        "\n",
        "```python\n",
        ">>> '%d %d %d' % (1, 2)\n",
        "TypeError: not enough arguments for format string >>> '%d' % 'dollars'\n",
        "TypeError: %d format: a number is required, not str\n",
        "```\n",
        "\n",
        "In the first example, there aren’t enough elements; in the second, the element is the wrong type.\n",
        "\n",
        "The format operator is powerful, but it can be difficult to use. You can read more about it at\n",
        "https://docs.python.org/library/stdtypes.html#printf-style-string-formatting."
      ]
    },
    {
      "cell_type": "code",
      "metadata": {
        "id": "ZbI2ltv5I98e"
      },
      "source": [
        ""
      ],
      "execution_count": null,
      "outputs": []
    },
    {
      "cell_type": "markdown",
      "metadata": {
        "id": "tY3F9E93JsG1"
      },
      "source": [
        "## 6.12 Debugging\n",
        "\n",
        "A skill that you should cultivate as you program is always asking yourself, “What could go wrong here?” or alternatively, “What crazy thing might our user do to crash our (seemingly) perfect program?”\n",
        "\n",
        "For example, look at the program which we used to demonstrate the while loop in the chapter on iteration:\n",
        "\n",
        "1A tuple is a sequence of comma-separated values inside a pair of parenthesis. We will cover tuples in Chapter 10.\n",
        "\n",
        "```python\n",
        "while True:\n",
        "  line = input('> ') if line[0] == '#':\n",
        "    continue\n",
        "  if line == 'done':\n",
        "    break\n",
        "  print(line)\n",
        "print('Done!')\n",
        "# Code: http://www.py4e.com/code3/copytildone2.py\n",
        "```\n",
        "\n",
        "Look what happens when the user enters an empty line of input:\n",
        "\n",
        "```python\n",
        "> hello there\n",
        "hello there\n",
        "> # don't print this\n",
        "> print this!\n",
        "print this!\n",
        ">\n",
        "Traceback (most recent call last):\n",
        "  File \"copytildone.py\", line 3, in <module> \n",
        "    if line[0] == '#':\n",
        "IndexError: string index out of range\n",
        "```\n",
        "\n",
        "The code works fine until it is presented an empty line. Then there is no zero-th character, so we get a traceback. There are two solutions to this to make line three “safe” even if the line is empty.\n",
        "\n",
        "One possibility is to simply use the startswith method which returns False if the string is empty.\n",
        "if line.startswith('#'):\n",
        "\n",
        "Another way is to safely write the if statement using the guardian pattern and make sure the second logical expression is evaluated only where there is at least one character in the string.:\n",
        "\n",
        "```python\n",
        "if len(line) > 0 and line[0] == '#':\n",
        "```"
      ]
    },
    {
      "cell_type": "markdown",
      "metadata": {
        "id": "0DDoL9E8KcUg"
      },
      "source": [
        "## 6.13 Glossary\n",
        "\n",
        "**counter** A variable used to count something, usually initialized to zero and then incremented.\n",
        "\n",
        "**empty string** A string with no characters and length 0, represented by two quotation marks.\n",
        "\n",
        "**format operator** An operator, %, that takes a format string and a tuple and gen- erates a string that includes the elements of the tuple formatted as specified by the format string.\n",
        "\n",
        "**format sequence** A sequence of characters in a format string, like %d, that specifies how a value should be formatted.\n",
        "\n",
        "**format string** A string, used with the format operator, that contains format sequences.\n",
        "\n",
        "**flag** A boolean variable used to indicate whether a condition is true or false. invocation A statement that calls a method.\n",
        "\n",
        "**immutable** The property of a sequence whose items cannot be assigned.\n",
        "\n",
        "**index** An integer value used to select an item in a sequence, such as a character in a string.\n",
        "\n",
        "**item** One of the values in a sequence.\n",
        "\n",
        "**method** A function that is associated with an object and called using dot notation.\n",
        "\n",
        "**object** Something a variable can refer to. For now, you can use “object” and “value” interchangeably.\n",
        "\n",
        "**search** A pattern of traversal that stops when it finds what it is looking for. sequence An ordered set; that is, a set of values where each value is identified by an integer index.\n",
        "\n",
        "**slice** A part of a string specified by a range of indices.\n",
        "\n",
        "**traverse** To iterate through the items in a sequence, performing a similar operation on each."
      ]
    },
    {
      "cell_type": "markdown",
      "metadata": {
        "id": "J8mjeqkKLbkj"
      },
      "source": [
        "## 6.14 Exercises\n",
        "\n",
        "**Exercise 5**: Take the following Python code that stores a string:\n",
        "\n",
        "```\n",
        "str = 'X-DSPAM-Confidence:0.8475'\n",
        "```\n",
        "\n",
        "Use find and string slicing to extract the portion of the string after the colon character and then use the float function to convert the extracted string into a floating point number.\n"
      ]
    },
    {
      "cell_type": "code",
      "metadata": {
        "id": "DIHryWgHKaz2"
      },
      "source": [
        "# Exercise 5"
      ],
      "execution_count": 5,
      "outputs": []
    },
    {
      "cell_type": "markdown",
      "metadata": {
        "id": "6vef5OMoLpBU"
      },
      "source": [
        "## **Exercise 6**: \n",
        "\n",
        "Read the documentation of the string methods at https://docs.python.org/library/stdtypes.html#string-methods You might want to experiment with some of them to make sure you understand how they work. strip and replace are particularly useful.\n",
        "\n",
        "The documentation uses a syntax that might be confusing. For example, in find(sub[, start[, end]]), the brackets indicate optional arguments. So sub is required, but start is optional, and if you include start, then end is optional."
      ]
    },
    {
      "cell_type": "code",
      "metadata": {
        "id": "cxBLvEBGLoDU"
      },
      "source": [
        "# Exercise 6"
      ],
      "execution_count": 6,
      "outputs": []
    }
  ]
}