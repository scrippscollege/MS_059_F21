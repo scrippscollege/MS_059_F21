{
  "nbformat": 4,
  "nbformat_minor": 0,
  "metadata": {
    "colab": {
      "name": "PY4E_10.ipynb",
      "provenance": []
    },
    "kernelspec": {
      "name": "python3",
      "display_name": "Python 3"
    },
    "language_info": {
      "name": "python"
    }
  },
  "cells": [
    {
      "cell_type": "markdown",
      "metadata": {
        "id": "K7m8mr7z_gu1"
      },
      "source": [
        "# Python for Everybody (Scripps College F2021)\n",
        "\n",
        "*Python for Everybody: Exploring Data Using Python 3 Dr. Charles R. Severance* \n",
        "\n",
        "ported to Jupyter Notebooks by Douglas Goodwin, 2021.\n",
        "\n",
        "Content Copyright 2009- Dr. Charles R. Severance with edits and additions by Douglas Goodwin.\n",
        "\n",
        "This work is licensed under a Creative Commons Attribution-NonCommercial- ShareAlike 3.0 Unported License. This license is available at https://creativecommons.org/licenses/by-nc-sa/3.0/\n",
        "\n",
        "---"
      ]
    },
    {
      "cell_type": "markdown",
      "metadata": {
        "id": "zsD_-vBf-qmU"
      },
      "source": [
        "# Tuples\n",
        "\n",
        "The tuple is a Python data structure that is like a simple and efficient list.\n",
        "\n",
        "### Videos\n",
        "\n",
        "-   [Tuples - Part 1](https://youtu.be/CaVhM65wD6g)\n",
        "-   [Tuples - Part 2](https://youtu.be/FdUdA6o0Ij0)\n",
        "-   [Sorting a Dictionary Using Tuples](https://youtu.be/hMJpet-gtc0)\n",
        "\n",
        "### Slides\n",
        "\n",
        "-   [Pythonlearn-10-Tuples.pptx](https://www.py4e.com/lectures3/Pythonlearn-10-Tuples.pptx)\n",
        "\n",
        "### References\n",
        "\n",
        "-   [Chapter 10: Tuples](https://www.py4e.com/html3/10-tuples)\n",
        "\n",
        "### Tools:\n",
        "-   [Autograder: Exercise 10.2](https://www.py4e.com/lessons_launch/pythonauto_10_02)\n",
        "-   [Quiz: Tuples](https://www.py4e.com/lessons_launch/py4e_10_tup_quiz)"
      ]
    },
    {
      "cell_type": "markdown",
      "metadata": {
        "id": "CUItR0MS_25M"
      },
      "source": [
        "## 10.1 Tuples are immutable\n",
        "\n",
        "A tuple[^1] is a sequence of values much like a list. The values stored in a tuple can be any type, and they are indexed by integers. The important difference is that tuples are immutable. Tuples are also comparable and hashable so we can sort lists of them and use tuples as key values in Python dictionaries.\n",
        "\n",
        "[^1]: Fun fact: The word “tuple” comes from the names given to sequences of numbers of varying lengths: single, double, triple, quadruple, quintuple, sextuple, septuple, etc.\n",
        "\n",
        "Syntactically, a tuple is a comma-separated list of values:\n",
        "\n",
        "```python\n",
        ">>> t = 'a', 'b', 'c', 'd', 'e'\n",
        "```\n",
        "\n",
        "Although it is not necessary, it is common to enclose tuples in parentheses to help\n",
        "us quickly identify tuples when we look at Python code:\n",
        "\n",
        "```python\n",
        ">>> t = ('a', 'b', 'c', 'd', 'e')\n",
        "```\n",
        "\n",
        "To create a tuple with a single element, you have to include the final comma:\n",
        "\n",
        "```python\n",
        ">>> t1 = ('a',)\n",
        ">>> type(t1)\n",
        "<type 'tuple'>\n",
        "```\n",
        "\n",
        "Without the comma Python treats ('a') as an expression with a string in parentheses that evaluates to a string:\n",
        "\n",
        "```python\n",
        ">>> t2 = ('a')\n",
        ">>> type(t2)\n",
        "<type 'str'>\n",
        "```\n",
        "\n",
        "Another way to construct a tuple is the built-in function tuple. With no argument, it creates an empty tuple:\n",
        "\n",
        "```python\n",
        ">>> t = tuple()\n",
        ">>> print(t)\n",
        "()\n",
        "```\n",
        "\n",
        "If the argument is a sequence (string, list, or tuple), the result of the call to tuple is a tuple with the elements of the sequence:\n",
        "\n",
        "```python\n",
        ">>> t = tuple('lupins')\n",
        ">>> print(t)\n",
        "('l', 'u', 'p', 'i', 'n', 's')\n",
        "```\n",
        "\n",
        "Because tuple is the name of a constructor, you should avoid using it as a variable name.\n",
        "\n",
        "Most list operators also work on tuples. The bracket operator indexes an element:\n",
        "\n",
        "```python\n",
        ">>> t = ('a', 'b', 'c', 'd', 'e') \n",
        ">>> print(t[0])\n",
        "'a'\n",
        "\n",
        "# And the slice operator selects a range of elements.\n",
        "\n",
        ">>> print(t[1:3])\n",
        "('b', 'c')\n",
        "```\n",
        "\n",
        "But if you try to modify one of the elements of the tuple, you get an error:\n",
        "\n",
        "```python\n",
        ">>> t[0] = 'A'\n",
        "TypeError: object doesn't support item assignment\n",
        "\n",
        "# You can’t modify the elements of a tuple, but you can replace one tuple with another:\n",
        "\n",
        ">>> t = ('A',) + t[1:]\n",
        ">>> print(t)\n",
        "('A', 'b', 'c', 'd', 'e')\n",
        "```\n",
        "\n",
        "\n",
        " "
      ]
    },
    {
      "cell_type": "markdown",
      "metadata": {
        "id": "Ji6cS4BPBAKc"
      },
      "source": [
        "## 10.2 Comparing tuples\n",
        "The comparison operators work with tuples and other sequences. Python starts by comparing the first element from each sequence. If they are equal, it goes on to the next element, and so on, until it finds elements that differ. Subsequent elements are not considered (even if they are really big).\n",
        "\n",
        "```\n",
        ">>> (0, 1, 2) < (0, 3, 4)\n",
        "True\n",
        ">>> (0, 1, 2000000) < (0, 3, 4)\n",
        "True\n",
        "```\n",
        "\n",
        "The sort function works the same way. It sorts primarily by first element, but in\n",
        "the case of a tie, it sorts by second element, and so on. This feature lends itself to a pattern called DSU for:\n",
        "\n",
        "> **Decorate** a sequence by building a list of tuples with one or more sort keys preceding the elements from the sequence,\n",
        "> **Sort** the list of tuples using the Python built-in sort,\n",
        "> and **Undecorate** by extracting the sorted elements of the sequence.\n",
        "\n",
        "For example, suppose you have a list of words and you want to sort them from longest to shortest:\n",
        "\n",
        "```\n",
        "txt = 'but soft what light in yonder window breaks' \n",
        "words = txt.split()\n",
        "t = list()\n",
        "for word in words:\n",
        "    t.append((len(word), word))\n",
        "t.sort(reverse=True)\n",
        "res = list()\n",
        "for length, word in t:\n",
        "    res.append(word)\n",
        "print(res)\n",
        "\n",
        "# Code: http://www.py4e.com/code3/soft.py\n",
        "```\n",
        "\n",
        "The first loop builds a list of tuples, where each tuple is a word preceded by its length.\n",
        "sort compares the first element, length, first, and only considers the second element to break ties. The keyword argument `reverse=True` tells sort to go in decreasing order.\n",
        "\n",
        "The second loop traverses the list of tuples and builds a list of words in descending order of length. The four-character words are sorted in reverse alphabetical order, so “what” appears before “soft” in the following list.\n",
        "\n",
        "The output of the program is as follows:\n",
        "\n",
        "```\n",
        "['yonder', 'window', 'breaks', 'light', 'what',\n",
        "'soft', 'but', 'in']\n",
        "```\n",
        "\n",
        "Of course the line loses much of its poetic impact when turned into a Python list and sorted in descending word length order."
      ]
    },
    {
      "cell_type": "code",
      "metadata": {
        "colab": {
          "base_uri": "https://localhost:8080/"
        },
        "id": "_s2SAsfD_C35",
        "outputId": "7b49c27d-d0f3-4719-9b03-b2dff82e09bd"
      },
      "source": [
        "# Try it out!\n",
        "\n",
        "txt = 'but soft what light in yonder window breaks' \n",
        "words = txt.split()\n",
        "t = list()\n",
        "for word in words:\n",
        "    t.append((len(word), word))\n",
        "t.sort()\n",
        "res = list()\n",
        "for length, word in t:\n",
        "    res.append(word)\n",
        "print(res)"
      ],
      "execution_count": 3,
      "outputs": [
        {
          "output_type": "stream",
          "text": [
            "['in', 'but', 'soft', 'what', 'light', 'breaks', 'window', 'yonder']\n"
          ],
          "name": "stdout"
        }
      ]
    },
    {
      "cell_type": "markdown",
      "metadata": {
        "id": "rYekemkZDaon"
      },
      "source": [
        "## 10.3 Tuple assignment\n",
        "\n",
        "One of the unique syntactic features of the Python language is the ability to have a tuple on the left side of an assignment statement. This allows you to assign more than one variable at a time when the left side is a sequence.\n",
        "\n",
        "In this example we have a two-element list (which is a sequence) and assign the first and second elements of the sequence to the variables x and y in a single statement.\n",
        "\n",
        "```python\n",
        ">>> m = [ 'have', 'fun' ] \n",
        ">>> x, y = m\n",
        ">>> x\n",
        "'have'\n",
        ">>> y 'fun' \n",
        ">>>\n",
        "```\n",
        "\n",
        "It is not magic, Python roughly translates the tuple assignment syntax to be the following:[^2]\n",
        "\n",
        "[^2]: Python does not translate the syntax literally. For example, if you try this with a dictionary, it will not work as you might expect.\n",
        "\n",
        "```python\n",
        ">>> m = [ 'have', 'fun' ]\n",
        ">>> x = m[0]\n",
        ">>> y = m[1]\n",
        ">>> x\n",
        "'have'\n",
        ">>> y 'fun' \n",
        ">>>\n",
        "```\n",
        "\n",
        "Stylistically when we use a tuple on the left side of the assignment statement, we omit the parentheses, but the following is an equally valid syntax:\n",
        "\n",
        "```python\n",
        ">>> m = [ 'have', 'fun' ] >>> (x, y) = m\n",
        ">>> x\n",
        "'have'\n",
        ">>> y 'fun' \n",
        ">>>\n",
        "```\n",
        "\n",
        "A particularly clever application of tuple assignment allows us to swap the values of two variables in a single statement:\n",
        "\n",
        "```python\n",
        ">>> a, b = b, a\n",
        "```\n",
        "\n",
        "Both sides of this statement are tuples, but the left side is a tuple of variables; the right side is a tuple of expressions. Each value on the right side is assigned to its respective variable on the left side. All the expressions on the right side are evaluated before any of the assignments.\n",
        "\n",
        "The number of variables on the left and the number of values on the right must be the same:\n",
        "\n",
        "```python\n",
        ">>> a, b = 1, 2, 3\n",
        "ValueError: too many values to unpack\n",
        "```\n",
        "\n",
        "More generally, the right side can be any kind of sequence (string, list, or tuple). For example, to split an email address into a user name and a domain, you could write:\n",
        "\n",
        "```python\n",
        ">>> addr = 'monty@python.org'\n",
        ">>> uname, domain = addr.split('@')\n",
        "```\n",
        "\n",
        "The return value from split is a list with two elements; the first element is assigned to uname, the second to domain.\n",
        "\n",
        "```python\n",
        ">>> print(uname)\n",
        "monty\n",
        ">>> print(domain)\n",
        "python.org\n",
        "```\n",
        "\n"
      ]
    },
    {
      "cell_type": "markdown",
      "metadata": {
        "id": "ckuTc_DrEEVW"
      },
      "source": [
        "## 10.4 Dictionaries and tuples\n",
        "\n",
        "Dictionaries have a method called items that returns a list of tuples, where each tuple is a key-value pair:\n",
        "\n",
        "```python\n",
        ">>> d = {'a':10, 'b':1, 'c':22}\n",
        ">>> t = list(d.items())\n",
        ">>> print(t)\n",
        "[('b', 1), ('a', 10), ('c', 22)]\n",
        "```\n",
        "\n",
        "As you should expect from a dictionary, the items are in no particular order.\n",
        "\n",
        "However, since the list of tuples is a list, and tuples are comparable, we can now sort the list of tuples. Converting a dictionary to a list of tuples is a way for us to output the contents of a dictionary sorted by key:\n",
        "\n",
        "```python\n",
        ">>> d = {'a':10, 'b':1, 'c':22}\n",
        ">>> t = list(d.items())\n",
        ">>> t\n",
        "[('b', 1), ('a', 10), ('c', 22)]\n",
        ">>> t.sort()\n",
        ">>> t\n",
        "[('a', 10), ('b', 1), ('c', 22)]\n",
        "```\n",
        "\n",
        "The new list is sorted in ascending alphabetical order by the key value.\n",
        "\n"
      ]
    },
    {
      "cell_type": "markdown",
      "metadata": {
        "id": "ZoScAXfaEll2"
      },
      "source": [
        "## 10.5 Multiple assignment with dictionaries\n",
        "\n",
        "Combining items, tuple assignment, and for, you can see a nice code pattern for traversing the keys and values of a dictionary in a single loop:\n",
        "\n",
        "```python\n",
        "for key, val in list(d.items()): \n",
        "  print(val, key)\n",
        "```\n",
        "\n",
        "This loop has two iteration variables because items returns a list of tuples and key, val is a tuple assignment that successively iterates through each of the key-value pairs in the dictionary.\n",
        "\n",
        "For each iteration through the loop, both key and value are advanced to the next key-value pair in the dictionary (still in hash order).\n",
        "The output of this loop is:\n",
        "\n",
        "```\n",
        "10 a \n",
        "22 c \n",
        "1  b\n",
        "```\n",
        "\n",
        "Again, it is in hash key order (i.e., no particular order).\n",
        "\n",
        "If we combine these two techniques, we can print out the contents of a dictionary\n",
        "sorted by the value stored in each key-value pair.\n",
        "To do this, we first make a list of tuples where each tuple is (value, key). The items method would give us a list of (key, value) tuples, but this time we want to sort by value, not key. Once we have constructed the list with the value-key tuples, it is a simple matter to sort the list in reverse order and print out the new, sorted list.\n",
        "\n",
        "```python\n",
        ">>> d = {'a':10, 'b':1, 'c':22} \n",
        ">>> l = list()\n",
        ">>> for key, val in d.items() : \n",
        "... l.append( (val, key) ) \n",
        "...\n",
        ">>> l\n",
        "[(10, 'a'), (22, 'c'), (1, 'b')]\n",
        ">>> l.sort(reverse=True)\n",
        ">>> l\n",
        "[(22, 'c'), (10, 'a'), (1, 'b')]\n",
        ">>>\n",
        "```\n",
        "\n",
        "By carefully constructing the list of tuples to have the value as the first element of each tuple, we can sort the list of tuples and get our dictionary contents sorted by value."
      ]
    },
    {
      "cell_type": "markdown",
      "metadata": {
        "id": "eC8q102uFJ8J"
      },
      "source": [
        "## 10.6 The most common words\n",
        "\n",
        "Coming back to our running example of the text from Romeo and Juliet Act 2, Scene 2, we can augment our program to use this technique to print the ten most common words in the text as follows:\n",
        "\n",
        "```\n",
        "import string\n",
        "fhand = open('romeo-full.txt') \n",
        "counts = dict()\n",
        "for line in fhand:\n",
        "  line = line.translate(str.maketrans('', '', string.punctuation)) \n",
        "  line = line.lower()\n",
        "  words = line.split()\n",
        "  for word in words:\n",
        "    if word not in counts: \n",
        "      counts[word] = 1\n",
        "    else:\n",
        "      counts[word] += 1\n",
        "\n",
        "# Sort the dictionary by value\n",
        "\n",
        "lst = list()\n",
        "for key, val in list(counts.items()):\n",
        "    lst.append((val, key))\n",
        "lst.sort(reverse=True)\n",
        "for key, val in lst[:10]: \n",
        "  print(key, val)\n",
        "\n",
        "# Code: http://www.py4e.com/code3/count3.py\n",
        "```\n",
        "\n",
        "The first part of the program which reads the file and computes the dictionary that maps each word to the count of words in the document is unchanged. But instead of simply printing out counts and ending the program, we construct a list of (val, key) tuples and then sort the list in reverse order.\n",
        "\n",
        "Since the value is first, it will be used for the comparisons. If there is more than one tuple with the same value, it will look at the second element (the key), so tuples where the value is the same will be further sorted by the alphabetical order of the key.\n",
        "\n",
        "At the end we write a nice for loop which does a multiple assignment iteration and prints out the ten most common words by iterating through a slice of the list `(lst[:10])` .\n",
        "\n",
        "So now the output finally looks like what we want for our word frequency analysis.\n",
        "\n",
        "```\n",
        "61 i\n",
        "42 and\n",
        "40 romeo\n",
        "34 to\n",
        "34 the\n",
        "32 thou\n",
        "32 juliet\n",
        "30 that\n",
        "29 my\n",
        "24 thee\n",
        "```\n",
        "\n",
        "The fact that this complex data parsing and analysis can be done with an easy-to-understand 19-line Python program is one reason why Python is a good choice as a language for exploring information."
      ]
    },
    {
      "cell_type": "code",
      "metadata": {
        "id": "c6X8zjakDLKt"
      },
      "source": [
        "# Try it out!"
      ],
      "execution_count": 4,
      "outputs": []
    },
    {
      "cell_type": "markdown",
      "metadata": {
        "id": "zitUV6LuF3Hd"
      },
      "source": [
        "## 10.7 Using tuples as keys in dictionaries\n",
        "\n",
        "Because tuples are hashable and lists are not, if we want to create a composite key to use in a dictionary we must use a tuple as the key.\n",
        "\n",
        "We would encounter a composite key if we wanted to create a telephone directory that maps from last-name, first-name pairs to telephone numbers. Assuming that we have defined the variables last, first, and number, we could write a dictionary assignment statement as follows:\n",
        "\n",
        "```\n",
        "directory[last,first] = number\n",
        "```\n",
        "\n",
        "The expression in brackets is a tuple. We could use tuple assignment in a for loop\n",
        "to traverse this dictionary.\n",
        "\n",
        "```\n",
        "for last, first in directory:\n",
        "  print(first, last, directory[last,first])\n",
        "```\n",
        "\n",
        "This loop traverses the keys in directory, which are tuples. It assigns the elements of each tuple to last and first, then prints the name and corresponding telephone number.\n"
      ]
    },
    {
      "cell_type": "markdown",
      "metadata": {
        "id": "16vo1vH0Nh_C"
      },
      "source": [
        "## 10.8 Sequences: strings, lists, and tuples - Oh My!\n",
        "\n",
        "I have focused on lists of tuples, but almost all of the examples in this chapter also work with lists of lists, tuples of tuples, and tuples of lists. To avoid enumer- ating the possible combinations, it is sometimes easier to talk about sequences of sequences.\n",
        "\n",
        "In many contexts, the different kinds of sequences (strings, lists, and tuples) can be used interchangeably. So how and why do you choose one over the others?\n",
        "\n",
        "To start with the obvious, strings are more limited than other sequences because the elements have to be characters. They are also immutable. If you need the ability to change the characters in a string (as opposed to creating a new string), you might want to use a list of characters instead.\n",
        "\n",
        "Lists are more common than tuples, mostly because they are mutable. But there are a few cases where you might prefer tuples:\n",
        "\n",
        "1. In some contexts, like a return statement, it is syntactically simpler to create a tuple than a list. In other contexts, you might prefer a list.\n",
        "2. If you want to use a sequence as a dictionary key, you have to use an immutable type like a tuple or string.\n",
        "3. If you are passing a sequence as an argument to a function, using tuples reduces the potential for unexpected behavior due to aliasing.\n",
        "\n",
        "Because tuples are immutable, they don’t provide methods like sort and reverse, which modify existing lists. However Python provides the built-in functions `sorted()` and `reversed()`, which take any sequence as a parameter and return a new sequence with the same elements in a different order."
      ]
    },
    {
      "cell_type": "markdown",
      "metadata": {
        "id": "lxq1RDDQN38a"
      },
      "source": [
        "## 10.9 Debugging\n",
        "\n",
        "Lists, dictionaries and tuples are known generically as data structures; in this chapter we are starting to see compound data structures, like lists of tuples, and dictionaries that contain tuples as keys and lists as values. \n",
        "\n",
        "Compound data structures are useful, but they are prone to what I call shape errors; that is, errors caused when a data structure has the wrong type, size, or composition, or perhaps you write some code and forget the shape of your data and introduce an error. For example, if you are expecting a list with one integer and I give you a plain old integer (not in a list), it won’t work."
      ]
    },
    {
      "cell_type": "markdown",
      "metadata": {
        "id": "cuXiPw3aN9qG"
      },
      "source": [
        "## 10.10 Glossary\n",
        "\n",
        "**comparable** A type where one value can be checked to see if it is greater than, less than, or equal to another value of the same type. Types which are comparable can be put in a list and sorted.\n",
        "\n",
        "**data structure** A collection of related values, often organized in lists, dictionaries, tuples, etc.\n",
        "\n",
        "**DSU** Abbreviation of “decorate-sort-undecorate”, a pattern that involves building a list of tuples, sorting, and extracting part of the result.\n",
        "\n",
        "**gather** The operation of assembling a variable-length argument tuple.\n",
        "\n",
        "**hashable** A type that has a hash function. Immutable types like integers, floats,\n",
        "and strings are hashable; mutable types like lists and dictionaries are not. \n",
        "\n",
        "**scatter** The operation of treating a sequence as a list of arguments.\n",
        "\n",
        "**shape** (of a data structure) A summary of the type, size, and composition of\n",
        "a data structure.\n",
        "\n",
        "**singleton** A list (or other sequence) with a single element.\n",
        "\n",
        "**tuple** An immutable sequence of elements.\n",
        "\n",
        "**tuple assignment** An assignment with a sequence on the right side and a tuple of variables on the left. The right side is evaluated and then its elements are assigned to the variables on the left."
      ]
    },
    {
      "cell_type": "markdown",
      "metadata": {
        "id": "N1lioeJWOdT7"
      },
      "source": [
        "## 10.11 Exercises\n",
        "\n",
        "**Exercise 1**: Revise a previous program as follows: Read and parse the “From” lines and pull out the addresses from the line. Count the number of messages from each person using a dictionary.\n",
        "\n",
        "After all the data has been read, print the person with the most commits by creating a list of (count, email) tuples from the dictionary. Then sort the list in reverse order and print out the person who has the most commits.\n",
        "\n",
        "```\n",
        "Sample Line:\n",
        "From stephen.marquard@uct.ac.za Sat Jan  5 09:14:16 2008\n",
        "Enter a file name: mbox-short.txt\n",
        "cwen@iupui.edu 5\n",
        "Enter a file name: mbox.txt\n",
        "zqian@umich.edu 195\n",
        "```\n",
        "\n"
      ]
    },
    {
      "cell_type": "code",
      "metadata": {
        "id": "dSfwBUCBFym6"
      },
      "source": [
        "# EX 1"
      ],
      "execution_count": 5,
      "outputs": []
    },
    {
      "cell_type": "markdown",
      "metadata": {
        "id": "qiOwVr5lO0HL"
      },
      "source": [
        "**Exercise 2**: This program counts the distribution of the hour of the day for each of the messages. You can pull the hour from the “From” line by finding the time string and then splitting that string into parts using the colon character. Once you have accumulated the counts for each hour, print out the counts, one per line, sorted by hour as shown below.\n",
        "\n",
        "```\n",
        "python timeofday.py\n",
        "Enter a file name: mbox-short.txt\n",
        "04 3\n",
        "06 1\n",
        "07 1\n",
        "09 2\n",
        "10 3\n",
        "11 6\n",
        "14 1\n",
        "15 2\n",
        "16 4\n",
        "17 2\n",
        "18 1\n",
        "19 1\n",
        "```\n",
        "\n"
      ]
    },
    {
      "cell_type": "code",
      "metadata": {
        "id": "M_0hG7sjOwz3"
      },
      "source": [
        "# EX 2"
      ],
      "execution_count": 7,
      "outputs": []
    },
    {
      "cell_type": "markdown",
      "metadata": {
        "id": "dsQJa5AnO7Ma"
      },
      "source": [
        "## **Exercise 3**: \n",
        "\n",
        "Write a program that reads a file and prints the letters in decreasing order of frequency. Your program should convert all the input to lower case and only count the letters a-z. Your program should not count spaces, digits, punctuation, or anything other than the letters a-z. Find text samples from several different languages and see how letter frequency varies between languages. Compare your results with the tables at https://wikipedia.org/wiki/Letter_frequencies."
      ]
    },
    {
      "cell_type": "code",
      "metadata": {
        "id": "EiFWRdtpOx4g"
      },
      "source": [
        "# EX 3"
      ],
      "execution_count": 8,
      "outputs": []
    },
    {
      "cell_type": "code",
      "metadata": {
        "id": "trwS40X2O_FX"
      },
      "source": [
        ""
      ],
      "execution_count": null,
      "outputs": []
    }
  ]
}